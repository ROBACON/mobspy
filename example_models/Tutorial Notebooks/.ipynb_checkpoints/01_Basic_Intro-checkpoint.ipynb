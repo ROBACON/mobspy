{
 "cells": [
  {
   "cell_type": "markdown",
   "id": "90d62ef7-a8f7-40a8-9006-9420802fabae",
   "metadata": {},
   "source": [
    "# Welcome\n",
    "\n",
    "Welcome to the Meta-Species Oriented Biosystem Syntax (MobsPy) tutorial. Here we explain the basics of how MobsPy works. \n",
    "In this introduction, we will explain the syntax for defining reactions, how to install MobsPy, and how it works.\n",
    "\n",
    "Let us start with installation. Uncomment the following line below to install MobsPy:"
   ]
  },
  {
   "cell_type": "code",
   "execution_count": 9,
   "id": "77802f3c-7d80-4033-937e-3e42c0dbac46",
   "metadata": {},
   "outputs": [
    {
     "name": "stdout",
     "output_type": "stream",
     "text": [
      "zsh:1: command not found: brew\n"
     ]
    }
   ],
   "source": [
    "# !pip install mobspy\n",
    "\n",
    "from mobspy import *\n",
    "\n",
    "!upgrade python3"
   ]
  },
  {
   "cell_type": "markdown",
   "id": "84e22aa9-c817-47b2-925d-d45dbcbe8f5d",
   "metadata": {},
   "source": [
    "# Reaction Syntax\n",
    "\n",
    "In MobsPy, meta-reactions are used for defining reactions. They are constructed from base species defined using the command BaseSpecies(). One can then use the following operators to construct a meta-reaction: + to sum reactants and products, *  for stochiometry, >> for transformation, and [] for rates. Species are assigned counts through().\n",
    "An example is provided in the code below:"
   ]
  },
  {
   "cell_type": "code",
   "execution_count": 6,
   "id": "1d176d55-1a94-43e1-95cf-9d860470f474",
   "metadata": {},
   "outputs": [
    {
     "ename": "AttributeError",
     "evalue": "module 'mobspy' has no attribute 'BaseSpecies'",
     "output_type": "error",
     "traceback": [
      "\u001b[0;31m---------------------------------------------------------------------------\u001b[0m",
      "\u001b[0;31mAttributeError\u001b[0m                            Traceback (most recent call last)",
      "\u001b[0;32m<ipython-input-6-9e25f865fff8>\u001b[0m in \u001b[0;36m<module>\u001b[0;34m\u001b[0m\n\u001b[0;32m----> 1\u001b[0;31m \u001b[0mA\u001b[0m\u001b[0;34m,\u001b[0m \u001b[0mB\u001b[0m\u001b[0;34m,\u001b[0m \u001b[0mC\u001b[0m\u001b[0;34m,\u001b[0m \u001b[0mD\u001b[0m \u001b[0;34m=\u001b[0m \u001b[0mms\u001b[0m\u001b[0;34m.\u001b[0m\u001b[0mBaseSpecies\u001b[0m\u001b[0;34m(\u001b[0m\u001b[0;34m)\u001b[0m\u001b[0;34m\u001b[0m\u001b[0;34m\u001b[0m\u001b[0m\n\u001b[0m\u001b[1;32m      2\u001b[0m \u001b[0;34m\u001b[0m\u001b[0m\n\u001b[1;32m      3\u001b[0m \u001b[0mA\u001b[0m \u001b[0;34m+\u001b[0m \u001b[0mB\u001b[0m \u001b[0;34m>>\u001b[0m \u001b[0;36m2\u001b[0m\u001b[0;34m*\u001b[0m\u001b[0mC\u001b[0m \u001b[0;34m+\u001b[0m \u001b[0mD\u001b[0m \u001b[0;34m[\u001b[0m\u001b[0;36m1\u001b[0m\u001b[0;34m]\u001b[0m\u001b[0;34m\u001b[0m\u001b[0;34m\u001b[0m\u001b[0m\n\u001b[1;32m      4\u001b[0m \u001b[0;34m\u001b[0m\u001b[0m\n\u001b[1;32m      5\u001b[0m \u001b[0mA\u001b[0m\u001b[0;34m(\u001b[0m\u001b[0;36m200\u001b[0m\u001b[0;34m)\u001b[0m\u001b[0;34m,\u001b[0m \u001b[0mB\u001b[0m\u001b[0;34m(\u001b[0m\u001b[0;36m200\u001b[0m\u001b[0;34m)\u001b[0m\u001b[0;34m\u001b[0m\u001b[0;34m\u001b[0m\u001b[0m\n",
      "\u001b[0;31mAttributeError\u001b[0m: module 'mobspy' has no attribute 'BaseSpecies'"
     ]
    }
   ],
   "source": [
    "A, B, C, D = ms.BaseSpecies()\n",
    "\n",
    "A + B >> 2*C + D [1]\n",
    "\n",
    "A(200), B(200)\n",
    "S = Simulation(A | B | C | D)\n",
    "S.duration = 5\n",
    "MySim.run()"
   ]
  },
  {
   "cell_type": "code",
   "execution_count": null,
   "id": "8e987bbd-0f02-43ba-a2e6-78f82fe085c4",
   "metadata": {},
   "outputs": [],
   "source": []
  }
 ],
 "metadata": {
  "kernelspec": {
   "display_name": "Python 3",
   "language": "python",
   "name": "python3"
  },
  "language_info": {
   "codemirror_mode": {
    "name": "ipython",
    "version": 3
   },
   "file_extension": ".py",
   "mimetype": "text/x-python",
   "name": "python",
   "nbconvert_exporter": "python",
   "pygments_lexer": "ipython3",
   "version": "3.8.8"
  }
 },
 "nbformat": 4,
 "nbformat_minor": 5
}
