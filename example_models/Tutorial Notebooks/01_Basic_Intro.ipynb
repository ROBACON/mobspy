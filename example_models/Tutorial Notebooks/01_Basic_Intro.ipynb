{
 "cells": [
  {
   "cell_type": "markdown",
   "id": "90d62ef7-a8f7-40a8-9006-9420802fabae",
   "metadata": {},
   "source": [
    "# Welcome\n",
    "\n",
    "Welcome to MobsPy tutorial notebooks. These notebooks will teach you the basics of using MobsPy, a language designed to simplifying the construction of chemical reaction networks. This tutorial will teach you how to define species, reactions, counts and rates. Afterwards, we will discuss the inner structure of MobsPy and how it simplifies modeling."
   ]
  },
  {
   "cell_type": "code",
   "execution_count": 1,
   "id": "77802f3c-7d80-4033-937e-3e42c0dbac46",
   "metadata": {},
   "outputs": [],
   "source": [
    "# !pip install mobspy --upgrade\n",
    "\n",
    "from mobspy import *\n",
    "import matplotlib.pyplot as plt\n",
    "import PIL"
   ]
  },
  {
   "cell_type": "markdown",
   "id": "84e22aa9-c817-47b2-925d-d45dbcbe8f5d",
   "metadata": {},
   "source": [
    "# Meta-Reaction Syntax\n",
    "\n",
    "In MobsPy, meta-reactions are used to define reactions and are constructed using Python operators and Base Species objects. The + operator sums reactants and products, while the * operator defines stoichiometry. The >> operator indicates the transformation of reactants to products, and the [] operator assigns a rate to the reaction. Species are assigned counts or concentrations using the species variable and the call operator ():"
   ]
  },
  {
   "cell_type": "code",
   "execution_count": 2,
   "id": "1d176d55-1a94-43e1-95cf-9d860470f474",
   "metadata": {},
   "outputs": [
    {
     "name": "stderr",
     "output_type": "stream",
     "text": [
      "Compiling model\n",
      "Starting Simulator\n",
      "Running simulation in parallel\n",
      "Simulation is Over\n"
     ]
    },
    {
     "data": {
      "image/png": "[encoded data removed]",
      "text/plain": [
       "<Figure size 432x288 with 1 Axes>"
      ]
     },
     "metadata": {
      "needs_background": "light"
     },
     "output_type": "display_data"
    }
   ],
   "source": [
    "A, B, C, D = BaseSpecies()\n",
    "\n",
    "# One molecule of A and one molecule of B becomes two molecules of C and one of D at a rate of 0.01\n",
    "A + B >> 2*C + D [0.01]\n",
    "\n",
    "# We start with 200 units of A and 100 units of B\n",
    "A(200), B(100)\n",
    "# Define the simulation using the given meta-species \n",
    "S = Simulation(A | B | C | D)\n",
    "S.duration = 5\n",
    "S.run()"
   ]
  },
  {
   "cell_type": "markdown",
   "id": "5545d2e3-49eb-4379-8f20-8cce6d04479f",
   "metadata": {},
   "source": [
    "# How MobsPy works?\n",
    "\n",
    "MobsPy uses meta-species and meta-reactions to simplify models. Meta-species are simply set of species constructed with all possible states of a specie. Meta-reactions define multiple reactions by using sets or subsets of these meta-species. Moreover, MobsPy simplifies the definition of chemical reaction networks with a bottom-up approach. Base meta-species representing simple tasks are defined and then combined to form more complex meta-species. For example, to model the aging process, we can define a base meta-species, \"Ager\" and use the >> operator to represent the transformation from \"young\" to \"old\" with a given reaction constant rate.\n",
    "The variable \"u\" is used to assign units to the given reaction constant rate."
   ]
  },
  {
   "cell_type": "code",
   "execution_count": 3,
   "id": "4887dd2c-eeb7-4261-be2d-fc553d2a170b",
   "metadata": {},
   "outputs": [
    {
     "data": {
      "text/plain": [
       "<mobspy.modules.meta_class.Reactions at 0x7f9ef1949340>"
      ]
     },
     "execution_count": 3,
     "metadata": {},
     "output_type": "execute_result"
    }
   ],
   "source": [
    "Ager = BaseSpecies()\n",
    "\n",
    "Ager.young >> Ager.old [1/10/u.year]\n",
    "#Note that the characteristics young and old are automatically added to Ager when used with the . operator"
   ]
  },
  {
   "cell_type": "markdown",
   "id": "9723fd9e-b974-4a8c-a728-756fb67fe1f2",
   "metadata": {},
   "source": [
    "To add characteristics to meta-species, we can use the dot operator.\n",
    "Characteristics can be added both inside and outside reactions. In the example above, the \"young\" and \"old\" characteristics are added to the \"Ager\" meta-species using the dot operator while defining the aging reaction.\n",
    "\n",
    "As an example of how to use the dot operator, we can create two new base species, \"Colored\" and \"Location,\" and assign characteristics to them:"
   ]
  },
  {
   "cell_type": "code",
   "execution_count": 4,
   "id": "ebff93da-b7a8-4633-947a-f0bebfc4015d",
   "metadata": {},
   "outputs": [
    {
     "data": {
      "text/plain": [
       "(<mobspy.modules.meta_class.Reacting_Species at 0x7f9eebba2310>,\n",
       " <mobspy.modules.meta_class.Reacting_Species at 0x7f9eebba2250>)"
      ]
     },
     "execution_count": 4,
     "metadata": {},
     "output_type": "execute_result"
    }
   ],
   "source": [
    "Colored, Location = BaseSpecies(2)\n",
    "\n",
    "Colored.green, Colored.yellow, Colored.brown\n",
    "Location.dense, Location.sparse"
   ]
  },
  {
   "cell_type": "markdown",
   "id": "f17308f0-b1d6-4efb-bfd7-b648fe68bb62",
   "metadata": {},
   "source": [
    "With MobsPy, it's possible to create meta-species and assign reactions to them without assigning characteristics. \n",
    "In this example, we use the provided meta-species Zero to define the Mortal meta-species, which represents death. \n",
    "Zero represents the absence of reactants or products in a reaction. \n",
    "To model a death rate higher for beings in the old state, we pass a function as a rate that returns reaction constant rates based on the state of the meta-species."
   ]
  },
  {
   "cell_type": "code",
   "execution_count": 5,
   "id": "9d7a0cab-1e8a-4599-9698-44298607668a",
   "metadata": {},
   "outputs": [
    {
     "data": {
      "text/plain": [
       "<mobspy.modules.meta_class.Reactions at 0x7f9ef1d6b7c0>"
      ]
     },
     "execution_count": 5,
     "metadata": {},
     "output_type": "execute_result"
    }
   ],
   "source": [
    "Mortal = BaseSpecies(1)\n",
    "\n",
    "# Functions can be rates. Reactants will be passed to the function which will return a higher rate if it contains the\n",
    "# charcteristic old\n",
    "Mortal >> Zero [lambda r1: 1/u.year if r1.old else 0]"
   ]
  },
  {
   "cell_type": "markdown",
   "id": "47f02dc0-e42c-4ec4-af21-5138aca0d7a2",
   "metadata": {},
   "source": [
    "We can combine the previously defined base meta-species to construct a more complex one with all desired characteristics and reactions by multiplying the previously defined meta-species. For example, we can create a \"Tree\" meta-species that has both the characteristics and reactions of Ager, Colored, and Location, and Mortal:"
   ]
  },
  {
   "cell_type": "code",
   "execution_count": 6,
   "id": "3edb192a-732a-44e4-b53a-e67fdc6447f9",
   "metadata": {},
   "outputs": [],
   "source": [
    "Tree = Ager*Colored*Mortal*Location"
   ]
  },
  {
   "cell_type": "markdown",
   "id": "33a5ea7d-c2cd-46d2-b070-14dcdc4fd69c",
   "metadata": {},
   "source": [
    "The Tree meta-species is a model that incorporates the Mortal reaction for death and the Ager reaction for aging, as well as the Colored, Location and Ager characteristics. Therefore, the Tree meta-species can be in the following states:\n",
    "\n",
    "**Tree.young.brown.dense, Tree.young.brown.sparse, \\  \n",
    "Tree.young.green.dense, Tree.young.green.sparse, \\\n",
    "Tree.young.yellow.dense, Tree.young.yellow.sparse, \\\n",
    "Tree.old.brown.dense, Tree.old.brown.sparse, \\\n",
    "Tree.old.green.dense, Tree.old.green.sparse, \\\n",
    "Tree.old.yellow.dense, Tree.old.yellow.sparse.**\n",
    "\n",
    "MobsPy created these states through a vectorial representation. In this vector space, the species Ager, Location, and Colored represent the axes, and the characteristics define the coordinate markings on those axes. The characteristics are position according to the axes of the first meta-species they have been directly added in. \n",
    "So the young and old characteristic bellong to the Ager axis, the brown, green and yellow belong to the Colored axis, and finally the sparce and dense belong to the Location axis.\n",
    "The vector space of Tree can be seen below:"
   ]
  },
  {
   "cell_type": "code",
   "execution_count": 7,
   "id": "edab6319-29ea-4de2-861d-090c8a9b5439",
   "metadata": {},
   "outputs": [
    {
     "data": {
      "text/plain": [
       "<matplotlib.image.AxesImage at 0x7f9ef1e0cd90>"
      ]
     },
     "execution_count": 7,
     "metadata": {},
     "output_type": "execute_result"
    },
    {
     "data": {
      "image/png": "[encoded data removed]",
      "text/plain": [
       "<Figure size 432x288 with 1 Axes>"
      ]
     },
     "metadata": {
      "needs_background": "light"
     },
     "output_type": "display_data"
    }
   ],
   "source": [
    "plt.imshow(PIL.Image.open('images/vectorial_space.png'))"
   ]
  },
  {
   "cell_type": "markdown",
   "id": "dedaf18b-2854-46da-9ade-b5e9da4bef80",
   "metadata": {},
   "source": [
    "All states partake in the meta-reactions from the base meta-species used to construct Tree to define reactions. For instance, the Ager meta-reaction yields the following six reactions:\n",
    "\n",
    "**Tree.young.brown.dense -> Tree.old.brown.dense \\\n",
    "Tree.young.brown.sparse -> Tree.old.brown.sparse \\\n",
    "Tree.young.green.dense -> Tree.old.green.dense \\\n",
    "Tree.young.green.sparse -> Tree.old.green.sparse \\\n",
    "Tree.young.yellow.dense -> Tree.old.yellow.dense \\\n",
    "Tree.young.yellow.sparse -> Tree.old.yellow.sparse** \n",
    "\n",
    "When using the dot notation in the reactants, MobsPy performs a query and filters the states that do not contain the specified characteristics. When using the dot notation in the products, one specifies the coordinate on the vector space where the transformation should occur. Thus, the Ager reaction transforms young to old as those are the characteritics in the Ager vector axis."
   ]
  },
  {
   "cell_type": "markdown",
   "id": "0bf67209-6b46-429b-90f1-6d00dc14a7b4",
   "metadata": {},
   "source": [
    "To continue building upon this model, we add two more reactions to the new Tree meta-species. A competition reaction between Trees in the dense location where the older Trees kill the young threes and a replication reaction where old Trees generate new Trees."
   ]
  },
  {
   "cell_type": "code",
   "execution_count": 8,
   "id": "81e1b6aa-2040-49da-af8e-1e3c8a34ac3f",
   "metadata": {},
   "outputs": [
    {
     "data": {
      "text/plain": [
       "<mobspy.modules.meta_class.Reactions at 0x7f9ef1e22d00>"
      ]
     },
     "execution_count": 8,
     "metadata": {},
     "output_type": "execute_result"
    }
   ],
   "source": [
    "# competition\n",
    "Tree.dense.old + Tree.dense.young >> Tree.dense.old [1e-10*u.decimeter/u.year]\n",
    "# replication\n",
    "Tree.old >> Tree + Tree.young [0.1/u.year]"
   ]
  },
  {
   "cell_type": "markdown",
   "id": "0d8c1999-7893-4ffe-acdb-e9a44a54637b",
   "metadata": {},
   "source": [
    "In MobsPy, the order of reactants and products has meaning. The order of reactants and products is used to generate the reactions from meta-reactions. \n",
    "The state of the first meta-species in the reactants will be used to generate the first product of the same meta-species. \n",
    "Further, the second reactant becomes the second product unless there are more products than reactants. \n",
    "In that case, if the products run out of corresponding reactants, MobsPy will cycle through the reactants and pick the first one again. \n",
    "\n",
    "For exemple, we show a diagram bellow for the reaction 2 * Meta_Species_1 + Meta_Species_2 >> Meta_Species_2 + 3 * Meta_Species_1. Here the first and second Meta_Species_1 from the product are assigned the states of the first and second Meta_Species_1 from the reactants, then the third Meta_Species_1 from the product will be assigned the state of the first\n",
    "Meta_Species_1 from the reactant. Meta_Species_2 is not matched with Meta_Species one since they are different Meta_Species. The diagram follows:"
   ]
  },
  {
   "cell_type": "code",
   "execution_count": 9,
   "id": "d0670dac-bb3a-4676-98d3-63c9a2b619f2",
   "metadata": {},
   "outputs": [
    {
     "data": {
      "image/png": "[encoded data removed]",
      "text/plain": [
       "<PIL.PngImagePlugin.PngImageFile image mode=P size=567x331 at 0x7F9EF1E42B20>"
      ]
     },
     "execution_count": 9,
     "metadata": {},
     "output_type": "execute_result"
    }
   ],
   "source": [
    "PIL.Image.open('images/Matching_Meta.png')"
   ]
  },
  {
   "cell_type": "markdown",
   "id": "afeeeab1-336f-4cfd-8244-3225f64ad22f",
   "metadata": {},
   "source": [
    "Consider the competition reaction Tree.dense.old + Tree.dense.young >> Tree.dense.old. Here, the order of the reactants indicates that the old Tree survives the competition and kills the young Tree, thus we preserve the state of the first Tree meta-species in the reaction. Thus, this meta-reaction yields the following reactions:\n",
    "\n",
    "**Tree.brown.dense.old + Tree.brown.dense.young -> Tree.brown.dense.old \\\n",
    "Tree.brown.dense.old + Tree.green.dense.young -> Tree.brown.dense.old \\\n",
    "Tree.brown.dense.old + Tree.yellow.dense.young -> Tree.brown.dense.old \\\n",
    "Tree.green.dense.old + Tree.brown.dense.young -> Tree.green.dense.old \\\n",
    "Tree.green.dense.old + Tree.green.dense.young -> Tree.green.dense.old \\\n",
    "Tree.green.dense.old + Tree.yellow.dense.young -> Tree.green.dense.old \\\n",
    "Tree.yellow.dense.old + Tree.brown.dense.young -> Tree.yellow.dense.old \\\n",
    "Tree.yellow.dense.old + Tree.green.dense.young -> Tree.yellow.dense.old \\\n",
    "Tree.yellow.dense.old + Tree.yellow.dense.young -> Tree.yellow.dense.old**\n",
    "\n",
    "On the other hand, in the replication reaction Tree.old >> Tree + Tree.young, the state of the first Tree is used to construct both products due to the round-robin cycle. As a result, the Trees of the products will retain the state of the first reactant. However, since a transformation is specified for the second Tree in the products, it will maintain its location and color, but its age will change to young, yielding the reactions:\n",
    "\n",
    "**Tree.brown.dense.old -> Tree.brown.dense.old + Tree.brown.dense.young \\\n",
    "Tree.brown.sparse.old -> Tree.brown.sparse.old + Tree.brown.sparse.young \\\n",
    "Tree.green.dense.old -> Tree.green.dense.old + Tree.green.dense.young \\\n",
    "Tree.green.sparse.old -> Tree.green.sparse.old + Tree.green.sparse.young \\\n",
    "Tree.yellow.sparse.old -> Tree.yellow.sparse.old + Tree.yellow.sparse.young \\\n",
    "Tree.yellow.dense.old -> Tree.yellow.dense.old + Tree.yellow.dense.young** \n",
    "\n",
    "Finally, although the order of reactants has meaning, the queries can be performed in any order."
   ]
  },
  {
   "cell_type": "markdown",
   "id": "63b56243-47a7-44d6-8ba9-ecafced995e2",
   "metadata": {},
   "source": [
    "It is necessary to specify the meta-species used in the simulation. \n",
    "As the Ager, Location, Mortal, and Color were defined only to construct the Tree meta-species, they must not be considered in the simulation. Once the simulation object has been defined, one can configure the simulation using the dot operator. Below, we define and simulate the model:"
   ]
  },
  {
   "cell_type": "code",
   "execution_count": 10,
   "id": "05e16ff0-cb05-470e-a53f-a9cf1e06900f",
   "metadata": {},
   "outputs": [
    {
     "name": "stderr",
     "output_type": "stream",
     "text": [
      "Compiling model\n",
      "\u001b[91mERROR: Cannot convert from 'decimeter / year' ([length] / [time]) to 'decimeter ** 3 / second' ([length] ** 3 / [time])\n",
      "Problem converting rate 1e-10 decimeter / year \n",
      "Is the rate in the form [volume]**1/[time]?\u001b[0m\n",
      "ERROR:root:Internal Python error in the inspect module.\n",
      "Below is the traceback from this internal error.\n",
      "\n"
     ]
    },
    {
     "name": "stdout",
     "output_type": "stream",
     "text": [
      "Traceback (most recent call last):\n",
      "  File \"/Users/fabriciocravo/opt/anaconda3/lib/python3.8/site-packages/mobspy/modules/unit_handler.py\", line 48, in convert_rate\n",
      "    converted_quantity = converted_quantity.convert(f'decimeters ** {dimension * volume_power}/seconds')\n",
      "  File \"/Users/fabriciocravo/opt/anaconda3/lib/python3.8/site-packages/mobspy/modules/mobspy_expressions.py\", line 571, in convert\n",
      "    new_q_object = self.q_object.to(unit)\n",
      "  File \"/Users/fabriciocravo/opt/anaconda3/lib/python3.8/site-packages/pint/quantity.py\", line 724, in to\n",
      "    magnitude = self._convert_magnitude_not_inplace(other, *contexts, **ctx_kwargs)\n",
      "  File \"/Users/fabriciocravo/opt/anaconda3/lib/python3.8/site-packages/pint/quantity.py\", line 673, in _convert_magnitude_not_inplace\n",
      "    return self._REGISTRY.convert(self._magnitude, self._units, other)\n",
      "  File \"/Users/fabriciocravo/opt/anaconda3/lib/python3.8/site-packages/pint/registry.py\", line 1003, in convert\n",
      "    return self._convert(value, src, dst, inplace)\n",
      "  File \"/Users/fabriciocravo/opt/anaconda3/lib/python3.8/site-packages/pint/registry.py\", line 1917, in _convert\n",
      "    return super()._convert(value, src, dst, inplace)\n",
      "  File \"/Users/fabriciocravo/opt/anaconda3/lib/python3.8/site-packages/pint/registry.py\", line 1518, in _convert\n",
      "    return super()._convert(value, src, dst, inplace)\n",
      "  File \"/Users/fabriciocravo/opt/anaconda3/lib/python3.8/site-packages/pint/registry.py\", line 1036, in _convert\n",
      "    raise DimensionalityError(src, dst, src_dim, dst_dim)\n",
      "pint.errors.DimensionalityError: Cannot convert from 'decimeter / year' ([length] / [time]) to 'decimeter ** 3 / second' ([length] ** 3 / [time])\n",
      "\n",
      "During handling of the above exception, another exception occurred:\n",
      "\n",
      "Traceback (most recent call last):\n",
      "  File \"/Users/fabriciocravo/opt/anaconda3/lib/python3.8/site-packages/IPython/core/interactiveshell.py\", line 3437, in run_code\n",
      "    exec(code_obj, self.user_global_ns, self.user_ns)\n",
      "  File \"<ipython-input-10-78aaa31f6b54>\", line 8, in <module>\n",
      "    S.run()\n",
      "  File \"/Users/fabriciocravo/opt/anaconda3/lib/python3.8/site-packages/mobspy/simulation.py\", line 263, in run\n",
      "    self.compile(verbose=False)\n",
      "  File \"/Users/fabriciocravo/opt/anaconda3/lib/python3.8/site-packages/mobspy/simulation.py\", line 209, in compile\n",
      "    Compiler.compile(self.model,\n",
      "  File \"/Users/fabriciocravo/opt/anaconda3/lib/python3.8/site-packages/mobspy/modules/meta_class.py\", line 253, in compile\n",
      "    reactions_for_sbml, parameters_in_reaction = rc.create_all_reactions(reactions_set,\n",
      "  File \"/Users/fabriciocravo/opt/anaconda3/lib/python3.8/site-packages/mobspy/modules/reaction_construction_nb.py\", line 372, in create_all_reactions\n",
      "    rate_string, parameters_in_reaction = fr.extract_reaction_rate(combination_of_reactant_species,\n",
      "  File \"/Users/fabriciocravo/opt/anaconda3/lib/python3.8/site-packages/mobspy/modules/function_rate_code.py\", line 41, in extract_reaction_rate\n",
      "    reaction_rate_function, dimension, is_count = uh.convert_rate(reaction_rate_function,\n",
      "  File \"/Users/fabriciocravo/opt/anaconda3/lib/python3.8/site-packages/mobspy/modules/unit_handler.py\", line 51, in convert_rate\n",
      "    simlog.error(str(e) + '\\n' +\n",
      "  File \"/Users/fabriciocravo/opt/anaconda3/lib/python3.8/site-packages/mobspy/simulation_logging/log_scripts.py\", line 16, in error\n",
      "    sys.exit(1)\n",
      "SystemExit: 1\n",
      "\n",
      "During handling of the above exception, another exception occurred:\n",
      "\n",
      "Traceback (most recent call last):\n",
      "  File \"/Users/fabriciocravo/opt/anaconda3/lib/python3.8/site-packages/IPython/core/ultratb.py\", line 1101, in get_records\n",
      "    return _fixed_getinnerframes(etb, number_of_lines_of_context, tb_offset)\n",
      "  File \"/Users/fabriciocravo/opt/anaconda3/lib/python3.8/site-packages/IPython/core/ultratb.py\", line 248, in wrapped\n",
      "    return f(*args, **kwargs)\n",
      "  File \"/Users/fabriciocravo/opt/anaconda3/lib/python3.8/site-packages/IPython/core/ultratb.py\", line 281, in _fixed_getinnerframes\n",
      "    records = fix_frame_records_filenames(inspect.getinnerframes(etb, context))\n",
      "  File \"/Users/fabriciocravo/opt/anaconda3/lib/python3.8/inspect.py\", line 1515, in getinnerframes\n",
      "    frameinfo = (tb.tb_frame,) + getframeinfo(tb, context)\n",
      "AttributeError: 'tuple' object has no attribute 'tb_frame'\n"
     ]
    },
    {
     "ename": "TypeError",
     "evalue": "object of type 'NoneType' has no len()",
     "output_type": "error",
     "traceback": [
      "\u001b[0;31m---------------------------------------------------------------------------\u001b[0m",
      "\u001b[0;31mDimensionalityError\u001b[0m                       Traceback (most recent call last)",
      "\u001b[0;32m~/opt/anaconda3/lib/python3.8/site-packages/mobspy/modules/unit_handler.py\u001b[0m in \u001b[0;36mconvert_rate\u001b[0;34m(quantity, reaction_order, dimension)\u001b[0m\n\u001b[1;32m     47\u001b[0m             \u001b[0;32melse\u001b[0m\u001b[0;34m:\u001b[0m\u001b[0;34m\u001b[0m\u001b[0;34m\u001b[0m\u001b[0m\n\u001b[0;32m---> 48\u001b[0;31m                 \u001b[0mconverted_quantity\u001b[0m \u001b[0;34m=\u001b[0m \u001b[0mconverted_quantity\u001b[0m\u001b[0;34m.\u001b[0m\u001b[0mconvert\u001b[0m\u001b[0;34m(\u001b[0m\u001b[0;34mf'decimeters ** {dimension * volume_power}/seconds'\u001b[0m\u001b[0;34m)\u001b[0m\u001b[0;34m\u001b[0m\u001b[0;34m\u001b[0m\u001b[0m\n\u001b[0m\u001b[1;32m     49\u001b[0m                 \u001b[0;32mreturn\u001b[0m \u001b[0mconverted_quantity\u001b[0m\u001b[0;34m.\u001b[0m\u001b[0mmagnitude\u001b[0m\u001b[0;34m,\u001b[0m \u001b[0mdimension\u001b[0m\u001b[0;34m,\u001b[0m \u001b[0;32mFalse\u001b[0m\u001b[0;34m\u001b[0m\u001b[0;34m\u001b[0m\u001b[0m\n",
      "\u001b[0;32m~/opt/anaconda3/lib/python3.8/site-packages/mobspy/modules/mobspy_expressions.py\u001b[0m in \u001b[0;36mconvert\u001b[0;34m(self, unit)\u001b[0m\n\u001b[1;32m    570\u001b[0m     \u001b[0;32mdef\u001b[0m \u001b[0mconvert\u001b[0m\u001b[0;34m(\u001b[0m\u001b[0mself\u001b[0m\u001b[0;34m,\u001b[0m \u001b[0munit\u001b[0m\u001b[0;34m)\u001b[0m\u001b[0;34m:\u001b[0m\u001b[0;34m\u001b[0m\u001b[0;34m\u001b[0m\u001b[0m\n\u001b[0;32m--> 571\u001b[0;31m         \u001b[0mnew_q_object\u001b[0m \u001b[0;34m=\u001b[0m \u001b[0mself\u001b[0m\u001b[0;34m.\u001b[0m\u001b[0mq_object\u001b[0m\u001b[0;34m.\u001b[0m\u001b[0mto\u001b[0m\u001b[0;34m(\u001b[0m\u001b[0munit\u001b[0m\u001b[0;34m)\u001b[0m\u001b[0;34m\u001b[0m\u001b[0;34m\u001b[0m\u001b[0m\n\u001b[0m\u001b[1;32m    572\u001b[0m         \u001b[0mtemp\u001b[0m \u001b[0;34m=\u001b[0m \u001b[0mOverrideQuantity\u001b[0m\u001b[0;34m(\u001b[0m\u001b[0mnew_q_object\u001b[0m\u001b[0;34m)\u001b[0m\u001b[0;34m\u001b[0m\u001b[0;34m\u001b[0m\u001b[0m\n",
      "\u001b[0;32m~/opt/anaconda3/lib/python3.8/site-packages/pint/quantity.py\u001b[0m in \u001b[0;36mto\u001b[0;34m(self, other, *contexts, **ctx_kwargs)\u001b[0m\n\u001b[1;32m    723\u001b[0m \u001b[0;34m\u001b[0m\u001b[0m\n\u001b[0;32m--> 724\u001b[0;31m         \u001b[0mmagnitude\u001b[0m \u001b[0;34m=\u001b[0m \u001b[0mself\u001b[0m\u001b[0;34m.\u001b[0m\u001b[0m_convert_magnitude_not_inplace\u001b[0m\u001b[0;34m(\u001b[0m\u001b[0mother\u001b[0m\u001b[0;34m,\u001b[0m \u001b[0;34m*\u001b[0m\u001b[0mcontexts\u001b[0m\u001b[0;34m,\u001b[0m \u001b[0;34m**\u001b[0m\u001b[0mctx_kwargs\u001b[0m\u001b[0;34m)\u001b[0m\u001b[0;34m\u001b[0m\u001b[0;34m\u001b[0m\u001b[0m\n\u001b[0m\u001b[1;32m    725\u001b[0m \u001b[0;34m\u001b[0m\u001b[0m\n",
      "\u001b[0;32m~/opt/anaconda3/lib/python3.8/site-packages/pint/quantity.py\u001b[0m in \u001b[0;36m_convert_magnitude_not_inplace\u001b[0;34m(self, other, *contexts, **ctx_kwargs)\u001b[0m\n\u001b[1;32m    672\u001b[0m \u001b[0;34m\u001b[0m\u001b[0m\n\u001b[0;32m--> 673\u001b[0;31m         \u001b[0;32mreturn\u001b[0m \u001b[0mself\u001b[0m\u001b[0;34m.\u001b[0m\u001b[0m_REGISTRY\u001b[0m\u001b[0;34m.\u001b[0m\u001b[0mconvert\u001b[0m\u001b[0;34m(\u001b[0m\u001b[0mself\u001b[0m\u001b[0;34m.\u001b[0m\u001b[0m_magnitude\u001b[0m\u001b[0;34m,\u001b[0m \u001b[0mself\u001b[0m\u001b[0;34m.\u001b[0m\u001b[0m_units\u001b[0m\u001b[0;34m,\u001b[0m \u001b[0mother\u001b[0m\u001b[0;34m)\u001b[0m\u001b[0;34m\u001b[0m\u001b[0;34m\u001b[0m\u001b[0m\n\u001b[0m\u001b[1;32m    674\u001b[0m \u001b[0;34m\u001b[0m\u001b[0m\n",
      "\u001b[0;32m~/opt/anaconda3/lib/python3.8/site-packages/pint/registry.py\u001b[0m in \u001b[0;36mconvert\u001b[0;34m(self, value, src, dst, inplace)\u001b[0m\n\u001b[1;32m   1002\u001b[0m \u001b[0;34m\u001b[0m\u001b[0m\n\u001b[0;32m-> 1003\u001b[0;31m         \u001b[0;32mreturn\u001b[0m \u001b[0mself\u001b[0m\u001b[0;34m.\u001b[0m\u001b[0m_convert\u001b[0m\u001b[0;34m(\u001b[0m\u001b[0mvalue\u001b[0m\u001b[0;34m,\u001b[0m \u001b[0msrc\u001b[0m\u001b[0;34m,\u001b[0m \u001b[0mdst\u001b[0m\u001b[0;34m,\u001b[0m \u001b[0minplace\u001b[0m\u001b[0;34m)\u001b[0m\u001b[0;34m\u001b[0m\u001b[0;34m\u001b[0m\u001b[0m\n\u001b[0m\u001b[1;32m   1004\u001b[0m \u001b[0;34m\u001b[0m\u001b[0m\n",
      "\u001b[0;32m~/opt/anaconda3/lib/python3.8/site-packages/pint/registry.py\u001b[0m in \u001b[0;36m_convert\u001b[0;34m(self, value, src, dst, inplace)\u001b[0m\n\u001b[1;32m   1916\u001b[0m \u001b[0;34m\u001b[0m\u001b[0m\n\u001b[0;32m-> 1917\u001b[0;31m         \u001b[0;32mreturn\u001b[0m \u001b[0msuper\u001b[0m\u001b[0;34m(\u001b[0m\u001b[0;34m)\u001b[0m\u001b[0;34m.\u001b[0m\u001b[0m_convert\u001b[0m\u001b[0;34m(\u001b[0m\u001b[0mvalue\u001b[0m\u001b[0;34m,\u001b[0m \u001b[0msrc\u001b[0m\u001b[0;34m,\u001b[0m \u001b[0mdst\u001b[0m\u001b[0;34m,\u001b[0m \u001b[0minplace\u001b[0m\u001b[0;34m)\u001b[0m\u001b[0;34m\u001b[0m\u001b[0;34m\u001b[0m\u001b[0m\n\u001b[0m\u001b[1;32m   1918\u001b[0m \u001b[0;34m\u001b[0m\u001b[0m\n",
      "\u001b[0;32m~/opt/anaconda3/lib/python3.8/site-packages/pint/registry.py\u001b[0m in \u001b[0;36m_convert\u001b[0;34m(self, value, src, dst, inplace)\u001b[0m\n\u001b[1;32m   1517\u001b[0m         \u001b[0;32mif\u001b[0m \u001b[0;32mnot\u001b[0m \u001b[0;34m(\u001b[0m\u001b[0msrc_offset_unit\u001b[0m \u001b[0;32mor\u001b[0m \u001b[0mdst_offset_unit\u001b[0m\u001b[0;34m)\u001b[0m\u001b[0;34m:\u001b[0m\u001b[0;34m\u001b[0m\u001b[0;34m\u001b[0m\u001b[0m\n\u001b[0;32m-> 1518\u001b[0;31m             \u001b[0;32mreturn\u001b[0m \u001b[0msuper\u001b[0m\u001b[0;34m(\u001b[0m\u001b[0;34m)\u001b[0m\u001b[0;34m.\u001b[0m\u001b[0m_convert\u001b[0m\u001b[0;34m(\u001b[0m\u001b[0mvalue\u001b[0m\u001b[0;34m,\u001b[0m \u001b[0msrc\u001b[0m\u001b[0;34m,\u001b[0m \u001b[0mdst\u001b[0m\u001b[0;34m,\u001b[0m \u001b[0minplace\u001b[0m\u001b[0;34m)\u001b[0m\u001b[0;34m\u001b[0m\u001b[0;34m\u001b[0m\u001b[0m\n\u001b[0m\u001b[1;32m   1519\u001b[0m \u001b[0;34m\u001b[0m\u001b[0m\n",
      "\u001b[0;32m~/opt/anaconda3/lib/python3.8/site-packages/pint/registry.py\u001b[0m in \u001b[0;36m_convert\u001b[0;34m(self, value, src, dst, inplace, check_dimensionality)\u001b[0m\n\u001b[1;32m   1035\u001b[0m             \u001b[0;32mif\u001b[0m \u001b[0msrc_dim\u001b[0m \u001b[0;34m!=\u001b[0m \u001b[0mdst_dim\u001b[0m\u001b[0;34m:\u001b[0m\u001b[0;34m\u001b[0m\u001b[0;34m\u001b[0m\u001b[0m\n\u001b[0;32m-> 1036\u001b[0;31m                 \u001b[0;32mraise\u001b[0m \u001b[0mDimensionalityError\u001b[0m\u001b[0;34m(\u001b[0m\u001b[0msrc\u001b[0m\u001b[0;34m,\u001b[0m \u001b[0mdst\u001b[0m\u001b[0;34m,\u001b[0m \u001b[0msrc_dim\u001b[0m\u001b[0;34m,\u001b[0m \u001b[0mdst_dim\u001b[0m\u001b[0;34m)\u001b[0m\u001b[0;34m\u001b[0m\u001b[0;34m\u001b[0m\u001b[0m\n\u001b[0m\u001b[1;32m   1037\u001b[0m \u001b[0;34m\u001b[0m\u001b[0m\n",
      "\u001b[0;31mDimensionalityError\u001b[0m: Cannot convert from 'decimeter / year' ([length] / [time]) to 'decimeter ** 3 / second' ([length] ** 3 / [time])",
      "\nDuring handling of the above exception, another exception occurred:\n",
      "\u001b[0;31mSystemExit\u001b[0m                                Traceback (most recent call last)",
      "    \u001b[0;31m[... skipping hidden 1 frame]\u001b[0m\n",
      "\u001b[0;32m<ipython-input-10-78aaa31f6b54>\u001b[0m in \u001b[0;36m<module>\u001b[0;34m\u001b[0m\n\u001b[1;32m      7\u001b[0m \u001b[0mS\u001b[0m\u001b[0;34m.\u001b[0m\u001b[0munit_x\u001b[0m \u001b[0;34m=\u001b[0m \u001b[0;34m'year'\u001b[0m\u001b[0;34m\u001b[0m\u001b[0;34m\u001b[0m\u001b[0m\n\u001b[0;32m----> 8\u001b[0;31m \u001b[0mS\u001b[0m\u001b[0;34m.\u001b[0m\u001b[0mrun\u001b[0m\u001b[0;34m(\u001b[0m\u001b[0;34m)\u001b[0m\u001b[0;34m\u001b[0m\u001b[0;34m\u001b[0m\u001b[0m\n\u001b[0m",
      "\u001b[0;32m~/opt/anaconda3/lib/python3.8/site-packages/mobspy/simulation.py\u001b[0m in \u001b[0;36mrun\u001b[0;34m(self)\u001b[0m\n\u001b[1;32m    262\u001b[0m         \u001b[0;32mif\u001b[0m \u001b[0mself\u001b[0m\u001b[0;34m.\u001b[0m\u001b[0m_species_for_sbml\u001b[0m \u001b[0;32mis\u001b[0m \u001b[0;32mNone\u001b[0m\u001b[0;34m:\u001b[0m\u001b[0;34m\u001b[0m\u001b[0;34m\u001b[0m\u001b[0m\n\u001b[0;32m--> 263\u001b[0;31m             \u001b[0mself\u001b[0m\u001b[0;34m.\u001b[0m\u001b[0mcompile\u001b[0m\u001b[0;34m(\u001b[0m\u001b[0mverbose\u001b[0m\u001b[0;34m=\u001b[0m\u001b[0;32mFalse\u001b[0m\u001b[0;34m)\u001b[0m\u001b[0;34m\u001b[0m\u001b[0;34m\u001b[0m\u001b[0m\n\u001b[0m\u001b[1;32m    264\u001b[0m \u001b[0;34m\u001b[0m\u001b[0m\n",
      "\u001b[0;32m~/opt/anaconda3/lib/python3.8/site-packages/mobspy/simulation.py\u001b[0m in \u001b[0;36mcompile\u001b[0;34m(self, verbose)\u001b[0m\n\u001b[1;32m    208\u001b[0m         \u001b[0mself\u001b[0m\u001b[0;34m.\u001b[0m\u001b[0mmodel_parameters\u001b[0m \u001b[0;34m=\u001b[0m\u001b[0;31m \u001b[0m\u001b[0;31m\\\u001b[0m\u001b[0;34m\u001b[0m\u001b[0;34m\u001b[0m\u001b[0m\n\u001b[0;32m--> 209\u001b[0;31m             Compiler.compile(self.model,\n\u001b[0m\u001b[1;32m    210\u001b[0m                              \u001b[0mreactions_set\u001b[0m\u001b[0;34m=\u001b[0m\u001b[0mself\u001b[0m\u001b[0;34m.\u001b[0m\u001b[0m_reactions_set\u001b[0m\u001b[0;34m,\u001b[0m\u001b[0;34m\u001b[0m\u001b[0;34m\u001b[0m\u001b[0m\n",
      "\u001b[0;32m~/opt/anaconda3/lib/python3.8/site-packages/mobspy/modules/meta_class.py\u001b[0m in \u001b[0;36mcompile\u001b[0;34m(cls, meta_species_to_simulate, reactions_set, species_counts, orthogonal_vector_structure, volume, type_of_model, verbose, event_dictionary, continuous_sim, ending_condition, skip_expression_check)\u001b[0m\n\u001b[1;32m    252\u001b[0m         \u001b[0mparameters_in_reaction\u001b[0m \u001b[0;34m=\u001b[0m \u001b[0mset\u001b[0m\u001b[0;34m(\u001b[0m\u001b[0;34m)\u001b[0m\u001b[0;34m\u001b[0m\u001b[0;34m\u001b[0m\u001b[0m\n\u001b[0;32m--> 253\u001b[0;31m         reactions_for_sbml, parameters_in_reaction = rc.create_all_reactions(reactions_set,\n\u001b[0m\u001b[1;32m    254\u001b[0m                                                                              \u001b[0mmeta_species_to_simulate\u001b[0m\u001b[0;34m,\u001b[0m\u001b[0;34m\u001b[0m\u001b[0;34m\u001b[0m\u001b[0m\n",
      "\u001b[0;32m~/opt/anaconda3/lib/python3.8/site-packages/mobspy/modules/reaction_construction_nb.py\u001b[0m in \u001b[0;36mcreate_all_reactions\u001b[0;34m(reactions, meta_species_in_model, ref_characteristics_to_object, type_of_model, dimension, parameter_exist, parameters_in_reaction, skip_check)\u001b[0m\n\u001b[1;32m    371\u001b[0m                     \u001b[0;32mtry\u001b[0m\u001b[0;34m:\u001b[0m\u001b[0;34m\u001b[0m\u001b[0;34m\u001b[0m\u001b[0m\n\u001b[0;32m--> 372\u001b[0;31m                         rate_string, parameters_in_reaction = fr.extract_reaction_rate(combination_of_reactant_species,\n\u001b[0m\u001b[1;32m    373\u001b[0m                                                                                        \u001b[0mreactant_strings\u001b[0m\u001b[0;34m\u001b[0m\u001b[0;34m\u001b[0m\u001b[0m\n",
      "\u001b[0;32m~/opt/anaconda3/lib/python3.8/site-packages/mobspy/modules/function_rate_code.py\u001b[0m in \u001b[0;36mextract_reaction_rate\u001b[0;34m(combination_of_reactant_species, reactant_string_list, reaction_rate_function, type_of_model, dimension, function_rate_arguments, parameter_exist, parameters_in_reaction, skip_check)\u001b[0m\n\u001b[1;32m     40\u001b[0m         \u001b[0;31m# Function is a constant function number int here\u001b[0m\u001b[0;34m\u001b[0m\u001b[0;34m\u001b[0m\u001b[0;34m\u001b[0m\u001b[0m\n\u001b[0;32m---> 41\u001b[0;31m         reaction_rate_function, dimension, is_count = uh.convert_rate(reaction_rate_function,\n\u001b[0m\u001b[1;32m     42\u001b[0m                                                                       \u001b[0mlen\u001b[0m\u001b[0;34m(\u001b[0m\u001b[0mreactant_string_list\u001b[0m\u001b[0;34m)\u001b[0m\u001b[0;34m,\u001b[0m\u001b[0;34m\u001b[0m\u001b[0;34m\u001b[0m\u001b[0m\n",
      "\u001b[0;32m~/opt/anaconda3/lib/python3.8/site-packages/mobspy/modules/unit_handler.py\u001b[0m in \u001b[0;36mconvert_rate\u001b[0;34m(quantity, reaction_order, dimension)\u001b[0m\n\u001b[1;32m     50\u001b[0m         \u001b[0;32mexcept\u001b[0m \u001b[0mException\u001b[0m \u001b[0;32mas\u001b[0m \u001b[0me\u001b[0m\u001b[0;34m:\u001b[0m\u001b[0;34m\u001b[0m\u001b[0;34m\u001b[0m\u001b[0m\n\u001b[0;32m---> 51\u001b[0;31m             simlog.error(str(e) + '\\n' +\n\u001b[0m\u001b[1;32m     52\u001b[0m                          \u001b[0;34mf'Problem converting rate {quantity} \\n'\u001b[0m\u001b[0;34m\u001b[0m\u001b[0;34m\u001b[0m\u001b[0m\n",
      "\u001b[0;32m~/opt/anaconda3/lib/python3.8/site-packages/mobspy/simulation_logging/log_scripts.py\u001b[0m in \u001b[0;36merror\u001b[0;34m(message, stack_index)\u001b[0m\n\u001b[1;32m     15\u001b[0m         \u001b[0mprint\u001b[0m\u001b[0;34m(\u001b[0m\u001b[0;34m'\\033[91m'\u001b[0m \u001b[0;34m+\u001b[0m \u001b[0;34m'ERROR: '\u001b[0m \u001b[0;34m+\u001b[0m \u001b[0mmessage\u001b[0m \u001b[0;34m+\u001b[0m \u001b[0;34m'\\033[0m'\u001b[0m\u001b[0;34m,\u001b[0m \u001b[0mfile\u001b[0m\u001b[0;34m=\u001b[0m\u001b[0msys\u001b[0m\u001b[0;34m.\u001b[0m\u001b[0mstderr\u001b[0m\u001b[0;34m)\u001b[0m\u001b[0;34m\u001b[0m\u001b[0;34m\u001b[0m\u001b[0m\n\u001b[0;32m---> 16\u001b[0;31m     \u001b[0msys\u001b[0m\u001b[0;34m.\u001b[0m\u001b[0mexit\u001b[0m\u001b[0;34m(\u001b[0m\u001b[0;36m1\u001b[0m\u001b[0;34m)\u001b[0m\u001b[0;34m\u001b[0m\u001b[0;34m\u001b[0m\u001b[0m\n\u001b[0m\u001b[1;32m     17\u001b[0m \u001b[0;34m\u001b[0m\u001b[0m\n",
      "\u001b[0;31mSystemExit\u001b[0m: 1",
      "\nDuring handling of the above exception, another exception occurred:\n",
      "\u001b[0;31mTypeError\u001b[0m                                 Traceback (most recent call last)",
      "    \u001b[0;31m[... skipping hidden 1 frame]\u001b[0m\n",
      "\u001b[0;32m~/opt/anaconda3/lib/python3.8/site-packages/IPython/core/interactiveshell.py\u001b[0m in \u001b[0;36mshowtraceback\u001b[0;34m(self, exc_tuple, filename, tb_offset, exception_only, running_compiled_code)\u001b[0m\n\u001b[1;32m   2052\u001b[0m                     stb = ['An exception has occurred, use %tb to see '\n\u001b[1;32m   2053\u001b[0m                            'the full traceback.\\n']\n\u001b[0;32m-> 2054\u001b[0;31m                     stb.extend(self.InteractiveTB.get_exception_only(etype,\n\u001b[0m\u001b[1;32m   2055\u001b[0m                                                                      value))\n\u001b[1;32m   2056\u001b[0m                 \u001b[0;32melse\u001b[0m\u001b[0;34m:\u001b[0m\u001b[0;34m\u001b[0m\u001b[0;34m\u001b[0m\u001b[0m\n",
      "\u001b[0;32m~/opt/anaconda3/lib/python3.8/site-packages/IPython/core/ultratb.py\u001b[0m in \u001b[0;36mget_exception_only\u001b[0;34m(self, etype, value)\u001b[0m\n\u001b[1;32m    752\u001b[0m         \u001b[0mvalue\u001b[0m \u001b[0;34m:\u001b[0m \u001b[0mexception\u001b[0m \u001b[0mvalue\u001b[0m\u001b[0;34m\u001b[0m\u001b[0;34m\u001b[0m\u001b[0m\n\u001b[1;32m    753\u001b[0m         \"\"\"\n\u001b[0;32m--> 754\u001b[0;31m         \u001b[0;32mreturn\u001b[0m \u001b[0mListTB\u001b[0m\u001b[0;34m.\u001b[0m\u001b[0mstructured_traceback\u001b[0m\u001b[0;34m(\u001b[0m\u001b[0mself\u001b[0m\u001b[0;34m,\u001b[0m \u001b[0metype\u001b[0m\u001b[0;34m,\u001b[0m \u001b[0mvalue\u001b[0m\u001b[0;34m)\u001b[0m\u001b[0;34m\u001b[0m\u001b[0;34m\u001b[0m\u001b[0m\n\u001b[0m\u001b[1;32m    755\u001b[0m \u001b[0;34m\u001b[0m\u001b[0m\n\u001b[1;32m    756\u001b[0m     \u001b[0;32mdef\u001b[0m \u001b[0mshow_exception_only\u001b[0m\u001b[0;34m(\u001b[0m\u001b[0mself\u001b[0m\u001b[0;34m,\u001b[0m \u001b[0metype\u001b[0m\u001b[0;34m,\u001b[0m \u001b[0mevalue\u001b[0m\u001b[0;34m)\u001b[0m\u001b[0;34m:\u001b[0m\u001b[0;34m\u001b[0m\u001b[0;34m\u001b[0m\u001b[0m\n",
      "\u001b[0;32m~/opt/anaconda3/lib/python3.8/site-packages/IPython/core/ultratb.py\u001b[0m in \u001b[0;36mstructured_traceback\u001b[0;34m(self, etype, evalue, etb, tb_offset, context)\u001b[0m\n\u001b[1;32m    627\u001b[0m             \u001b[0mchained_exceptions_tb_offset\u001b[0m \u001b[0;34m=\u001b[0m \u001b[0;36m0\u001b[0m\u001b[0;34m\u001b[0m\u001b[0;34m\u001b[0m\u001b[0m\n\u001b[1;32m    628\u001b[0m             out_list = (\n\u001b[0;32m--> 629\u001b[0;31m                 self.structured_traceback(\n\u001b[0m\u001b[1;32m    630\u001b[0m                     \u001b[0metype\u001b[0m\u001b[0;34m,\u001b[0m \u001b[0mevalue\u001b[0m\u001b[0;34m,\u001b[0m \u001b[0;34m(\u001b[0m\u001b[0metb\u001b[0m\u001b[0;34m,\u001b[0m \u001b[0mchained_exc_ids\u001b[0m\u001b[0;34m)\u001b[0m\u001b[0;34m,\u001b[0m\u001b[0;34m\u001b[0m\u001b[0;34m\u001b[0m\u001b[0m\n\u001b[1;32m    631\u001b[0m                     chained_exceptions_tb_offset, context)\n",
      "\u001b[0;32m~/opt/anaconda3/lib/python3.8/site-packages/IPython/core/ultratb.py\u001b[0m in \u001b[0;36mstructured_traceback\u001b[0;34m(self, etype, value, tb, tb_offset, number_of_lines_of_context)\u001b[0m\n\u001b[1;32m   1365\u001b[0m         \u001b[0;32melse\u001b[0m\u001b[0;34m:\u001b[0m\u001b[0;34m\u001b[0m\u001b[0;34m\u001b[0m\u001b[0m\n\u001b[1;32m   1366\u001b[0m             \u001b[0mself\u001b[0m\u001b[0;34m.\u001b[0m\u001b[0mtb\u001b[0m \u001b[0;34m=\u001b[0m \u001b[0mtb\u001b[0m\u001b[0;34m\u001b[0m\u001b[0;34m\u001b[0m\u001b[0m\n\u001b[0;32m-> 1367\u001b[0;31m         return FormattedTB.structured_traceback(\n\u001b[0m\u001b[1;32m   1368\u001b[0m             self, etype, value, tb, tb_offset, number_of_lines_of_context)\n\u001b[1;32m   1369\u001b[0m \u001b[0;34m\u001b[0m\u001b[0m\n",
      "\u001b[0;32m~/opt/anaconda3/lib/python3.8/site-packages/IPython/core/ultratb.py\u001b[0m in \u001b[0;36mstructured_traceback\u001b[0;34m(self, etype, value, tb, tb_offset, number_of_lines_of_context)\u001b[0m\n\u001b[1;32m   1265\u001b[0m         \u001b[0;32mif\u001b[0m \u001b[0mmode\u001b[0m \u001b[0;32min\u001b[0m \u001b[0mself\u001b[0m\u001b[0;34m.\u001b[0m\u001b[0mverbose_modes\u001b[0m\u001b[0;34m:\u001b[0m\u001b[0;34m\u001b[0m\u001b[0;34m\u001b[0m\u001b[0m\n\u001b[1;32m   1266\u001b[0m             \u001b[0;31m# Verbose modes need a full traceback\u001b[0m\u001b[0;34m\u001b[0m\u001b[0;34m\u001b[0m\u001b[0;34m\u001b[0m\u001b[0m\n\u001b[0;32m-> 1267\u001b[0;31m             return VerboseTB.structured_traceback(\n\u001b[0m\u001b[1;32m   1268\u001b[0m                 \u001b[0mself\u001b[0m\u001b[0;34m,\u001b[0m \u001b[0metype\u001b[0m\u001b[0;34m,\u001b[0m \u001b[0mvalue\u001b[0m\u001b[0;34m,\u001b[0m \u001b[0mtb\u001b[0m\u001b[0;34m,\u001b[0m \u001b[0mtb_offset\u001b[0m\u001b[0;34m,\u001b[0m \u001b[0mnumber_of_lines_of_context\u001b[0m\u001b[0;34m\u001b[0m\u001b[0;34m\u001b[0m\u001b[0m\n\u001b[1;32m   1269\u001b[0m             )\n",
      "\u001b[0;32m~/opt/anaconda3/lib/python3.8/site-packages/IPython/core/ultratb.py\u001b[0m in \u001b[0;36mstructured_traceback\u001b[0;34m(self, etype, evalue, etb, tb_offset, number_of_lines_of_context)\u001b[0m\n\u001b[1;32m   1122\u001b[0m         \u001b[0;34m\"\"\"Return a nice text document describing the traceback.\"\"\"\u001b[0m\u001b[0;34m\u001b[0m\u001b[0;34m\u001b[0m\u001b[0m\n\u001b[1;32m   1123\u001b[0m \u001b[0;34m\u001b[0m\u001b[0m\n\u001b[0;32m-> 1124\u001b[0;31m         formatted_exception = self.format_exception_as_a_whole(etype, evalue, etb, number_of_lines_of_context,\n\u001b[0m\u001b[1;32m   1125\u001b[0m                                                                tb_offset)\n\u001b[1;32m   1126\u001b[0m \u001b[0;34m\u001b[0m\u001b[0m\n",
      "\u001b[0;32m~/opt/anaconda3/lib/python3.8/site-packages/IPython/core/ultratb.py\u001b[0m in \u001b[0;36mformat_exception_as_a_whole\u001b[0;34m(self, etype, evalue, etb, number_of_lines_of_context, tb_offset)\u001b[0m\n\u001b[1;32m   1080\u001b[0m \u001b[0;34m\u001b[0m\u001b[0m\n\u001b[1;32m   1081\u001b[0m \u001b[0;34m\u001b[0m\u001b[0m\n\u001b[0;32m-> 1082\u001b[0;31m         \u001b[0mlast_unique\u001b[0m\u001b[0;34m,\u001b[0m \u001b[0mrecursion_repeat\u001b[0m \u001b[0;34m=\u001b[0m \u001b[0mfind_recursion\u001b[0m\u001b[0;34m(\u001b[0m\u001b[0morig_etype\u001b[0m\u001b[0;34m,\u001b[0m \u001b[0mevalue\u001b[0m\u001b[0;34m,\u001b[0m \u001b[0mrecords\u001b[0m\u001b[0;34m)\u001b[0m\u001b[0;34m\u001b[0m\u001b[0;34m\u001b[0m\u001b[0m\n\u001b[0m\u001b[1;32m   1083\u001b[0m \u001b[0;34m\u001b[0m\u001b[0m\n\u001b[1;32m   1084\u001b[0m         \u001b[0mframes\u001b[0m \u001b[0;34m=\u001b[0m \u001b[0mself\u001b[0m\u001b[0;34m.\u001b[0m\u001b[0mformat_records\u001b[0m\u001b[0;34m(\u001b[0m\u001b[0mrecords\u001b[0m\u001b[0;34m,\u001b[0m \u001b[0mlast_unique\u001b[0m\u001b[0;34m,\u001b[0m \u001b[0mrecursion_repeat\u001b[0m\u001b[0;34m)\u001b[0m\u001b[0;34m\u001b[0m\u001b[0;34m\u001b[0m\u001b[0m\n",
      "\u001b[0;32m~/opt/anaconda3/lib/python3.8/site-packages/IPython/core/ultratb.py\u001b[0m in \u001b[0;36mfind_recursion\u001b[0;34m(etype, value, records)\u001b[0m\n\u001b[1;32m    380\u001b[0m     \u001b[0;31m# first frame (from in to out) that looks different.\u001b[0m\u001b[0;34m\u001b[0m\u001b[0;34m\u001b[0m\u001b[0;34m\u001b[0m\u001b[0m\n\u001b[1;32m    381\u001b[0m     \u001b[0;32mif\u001b[0m \u001b[0;32mnot\u001b[0m \u001b[0mis_recursion_error\u001b[0m\u001b[0;34m(\u001b[0m\u001b[0metype\u001b[0m\u001b[0;34m,\u001b[0m \u001b[0mvalue\u001b[0m\u001b[0;34m,\u001b[0m \u001b[0mrecords\u001b[0m\u001b[0;34m)\u001b[0m\u001b[0;34m:\u001b[0m\u001b[0;34m\u001b[0m\u001b[0;34m\u001b[0m\u001b[0m\n\u001b[0;32m--> 382\u001b[0;31m         \u001b[0;32mreturn\u001b[0m \u001b[0mlen\u001b[0m\u001b[0;34m(\u001b[0m\u001b[0mrecords\u001b[0m\u001b[0;34m)\u001b[0m\u001b[0;34m,\u001b[0m \u001b[0;36m0\u001b[0m\u001b[0;34m\u001b[0m\u001b[0;34m\u001b[0m\u001b[0m\n\u001b[0m\u001b[1;32m    383\u001b[0m \u001b[0;34m\u001b[0m\u001b[0m\n\u001b[1;32m    384\u001b[0m     \u001b[0;31m# Select filename, lineno, func_name to track frames with\u001b[0m\u001b[0;34m\u001b[0m\u001b[0;34m\u001b[0m\u001b[0;34m\u001b[0m\u001b[0m\n",
      "\u001b[0;31mTypeError\u001b[0m: object of type 'NoneType' has no len()"
     ]
    }
   ],
   "source": [
    "# initial conditions, in this model version we only have green trees\n",
    "Tree.dense(25), Tree.dense.old(25), Tree.sparse(25), Tree.sparse.old(25)\n",
    "S = Simulation(Tree)\n",
    "S.simulation_method = 'stochastic'\n",
    "S.repetitions = 3\n",
    "S.duration = 20*u.years\n",
    "S.unit_x = 'year'\n",
    "S.run()"
   ]
  },
  {
   "cell_type": "markdown",
   "id": "350e15ee-f0f5-47b1-8e21-1f1bc86c7018",
   "metadata": {},
   "source": [
    "The counts of resulting states are automatically mapped to the Three meta-species. MobsPy also provides in it's results the counts of the individual states. The results can be accessed in the following manner:"
   ]
  },
  {
   "cell_type": "code",
   "execution_count": null,
   "id": "efa57176-8d9f-4df9-87dd-a3f818fd0578",
   "metadata": {},
   "outputs": [],
   "source": [
    "print(S.results[Tree])"
   ]
  },
  {
   "cell_type": "markdown",
   "id": "b2189332-b6bd-4b8b-b9c5-cbdb5cc5cb29",
   "metadata": {},
   "source": [
    "We also compile the model to show it in detail:"
   ]
  },
  {
   "cell_type": "code",
   "execution_count": null,
   "id": "e1443de3-1436-490e-bcfe-5beba62e2778",
   "metadata": {},
   "outputs": [],
   "source": [
    "print(S.compile())"
   ]
  },
  {
   "cell_type": "markdown",
   "id": "6c309a72-a6d0-4eab-8d31-fc968ac592ac",
   "metadata": {},
   "source": [
    "One can see how MobsPy was able to reduce a 27 reaction model into three meta-reactions. \n",
    "Finally, one can acess the results inside the simulation object "
   ]
  },
  {
   "cell_type": "markdown",
   "id": "50709f10-ed45-470d-8053-568f2be27b38",
   "metadata": {},
   "source": [
    "# Following Notebooks\n",
    "\n",
    "In the following tutorials, we will revise in more detail some of the tools used here and explain other resources that can be further used to simplify models. "
   ]
  }
 ],
 "metadata": {
  "kernelspec": {
   "display_name": "Python 3",
   "language": "python",
   "name": "python3"
  },
  "language_info": {
   "codemirror_mode": {
    "name": "ipython",
    "version": 3
   },
   "file_extension": ".py",
   "mimetype": "text/x-python",
   "name": "python",
   "nbconvert_exporter": "python",
   "pygments_lexer": "ipython3",
   "version": "3.8.8"
  }
 },
 "nbformat": 4,
 "nbformat_minor": 5
}
