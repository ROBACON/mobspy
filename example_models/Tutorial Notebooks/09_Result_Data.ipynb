{
 "cells": [
  {
   "cell_type": "markdown",
   "id": "dfeba988-6a50-456a-b419-bca6b50c6224",
   "metadata": {},
   "source": [
    "# Simulation Results\n",
    "\n",
    "This notebook will teach how to viasualize and extract results from the MobsPy simulation object.\n",
    "\n",
    "We start with a simple model:"
   ]
  },
  {
   "cell_type": "code",
   "execution_count": 4,
   "id": "df8e675d-5966-49be-898b-6c5fbb8f8369",
   "metadata": {},
   "outputs": [
    {
     "ename": "ModuleNotFoundError",
     "evalue": "No module named 'mobspy'",
     "output_type": "error",
     "traceback": [
      "\u001b[0;31m---------------------------------------------------------------------------\u001b[0m",
      "\u001b[0;31mModuleNotFoundError\u001b[0m                       Traceback (most recent call last)",
      "\u001b[0;32m<ipython-input-4-550c14156d8d>\u001b[0m in \u001b[0;36m<module>\u001b[0;34m\u001b[0m\n\u001b[0;32m----> 1\u001b[0;31m \u001b[0;32mfrom\u001b[0m \u001b[0mmobspy\u001b[0m \u001b[0;32mimport\u001b[0m \u001b[0;34m*\u001b[0m\u001b[0;34m\u001b[0m\u001b[0;34m\u001b[0m\u001b[0m\n\u001b[0m\u001b[1;32m      2\u001b[0m \u001b[0;34m\u001b[0m\u001b[0m\n\u001b[1;32m      3\u001b[0m \u001b[0mColor\u001b[0m\u001b[0;34m,\u001b[0m \u001b[0mDisease\u001b[0m \u001b[0;34m=\u001b[0m \u001b[0mBaseSpecies\u001b[0m\u001b[0;34m(\u001b[0m\u001b[0;34m)\u001b[0m\u001b[0;34m\u001b[0m\u001b[0;34m\u001b[0m\u001b[0m\n\u001b[1;32m      4\u001b[0m \u001b[0;34m\u001b[0m\u001b[0m\n\u001b[1;32m      5\u001b[0m \u001b[0mColor\u001b[0m\u001b[0;34m.\u001b[0m\u001b[0mblue\u001b[0m\u001b[0;34m,\u001b[0m \u001b[0mColor\u001b[0m\u001b[0;34m.\u001b[0m\u001b[0mred\u001b[0m\u001b[0;34m,\u001b[0m \u001b[0mColor\u001b[0m\u001b[0;34m.\u001b[0m\u001b[0myellow\u001b[0m\u001b[0;34m\u001b[0m\u001b[0;34m\u001b[0m\u001b[0m\n",
      "\u001b[0;31mModuleNotFoundError\u001b[0m: No module named 'mobspy'"
     ]
    }
   ],
   "source": [
    "from mobspy import *\n",
    "\n",
    "Color, Disease = BaseSpecies()\n",
    "\n",
    "Color.blue, Color.red, Color.yellow\n",
    "Disease.not_sick, Disease.sick\n",
    "\n",
    "Disease.not_sick >> Disease.sick [1]\n",
    "\n",
    "Tree = Color*Disease\n",
    "\n",
    "Tree.yellow(20), Tree.red(20), Tree.blue(20)\n",
    "\n",
    "S = Simulation(Tree)\n",
    "S.method = 'stochastic'\n",
    "S.repetitions = 3\n",
    "S.step_size = 0.25\n",
    "S.duration = 3\n",
    "S.run()"
   ]
  },
  {
   "cell_type": "markdown",
   "id": "611f87ec-b356-49cd-bc01-95964c544eb7",
   "metadata": {},
   "source": [
    "The previous plot did not show much as the number of Trees remains constant throughout the simulation.\n",
    "However, MobsPy provides tools to better viasualize the results. Firstly, one can use the plot_stochastic() function with perform string queries to plot the counts from specific states."
   ]
  },
  {
   "cell_type": "code",
   "execution_count": null,
   "id": "9b28c8e6-8cd6-43a7-8956-863095d4bd18",
   "metadata": {},
   "outputs": [],
   "source": [
    "S.plot_stochastic(Tree.not_sick, Tree.sick)"
   ]
  },
  {
   "cell_type": "markdown",
   "id": "9d829ee2-9eac-4556-b3c3-0474b36cb8e0",
   "metadata": {},
   "source": [
    "Plot stochastic generates two figures for each species. The figures above refer to the runs, while the figures bellow refer to an average of the runs with the standard deviation.\n",
    "\n",
    "If one wishes to see all species together, one can use the plot function."
   ]
  },
  {
   "cell_type": "code",
   "execution_count": null,
   "id": "0f198b63-0238-4c20-b5e1-6cdfb81f17bb",
   "metadata": {},
   "outputs": [],
   "source": [
    "S.plot(Tree.not_sick, Tree.sick)"
   ]
  },
  {
   "cell_type": "markdown",
   "id": "fcb9ad8f-ac4a-400f-a6b8-e0a739832459",
   "metadata": {},
   "source": [
    "One can also access the data directly using either the meta-species objects or strings. \n",
    "Similarly to the plotting function you can perform queries in the result data."
   ]
  },
  {
   "cell_type": "code",
   "execution_count": null,
   "id": "a35e7f4e-67c5-4d09-99cd-29eba06af496",
   "metadata": {},
   "outputs": [],
   "source": [
    "R = S.results\n",
    "print('Tree: \\n', R[Tree])\n",
    "print('Tree.not_sick: \\n', R[Tree.not_sick])\n",
    "print('Tree.sick: \\n', R['Tree.sick'])\n",
    "print('Tree.sick.blue: \\n', R['Tree.sick.blue'])"
   ]
  },
  {
   "cell_type": "markdown",
   "id": "23ef615c-b3cc-4c77-b6f7-72d33d80eba1",
   "metadata": {},
   "source": [
    "The get item S.results[Meta_Species_Name] will return a list of lists with all the runs performed in the simulation. \n",
    "For deterministic simulations with a single run, it will return a list of lists containing the single list with the single run. For those cases, the request fres might be more convenient, as it returns directly the first run of all the lists. "
   ]
  },
  {
   "cell_type": "code",
   "execution_count": null,
   "id": "16e849c9-3138-4602-a557-eeab98197604",
   "metadata": {},
   "outputs": [],
   "source": [
    "R = S.fres\n",
    "print('Tree: \\n', R[Tree])\n",
    "print('Tree.not_sick: \\n', R[Tree.not_sick])\n",
    "print('Tree.sick: \\n', R['Tree.sick'])\n",
    "print('Tree.sick.blue: \\n', R['Tree.sick.blue'])"
   ]
  },
  {
   "cell_type": "code",
   "execution_count": null,
   "id": "1dd86359-8cc3-4c7d-af7c-5b9c14aaa3b6",
   "metadata": {},
   "outputs": [],
   "source": [
    "A = BaseSpecies()\n",
    "\n",
    "A >> Zero [1]\n",
    "\n",
    "A(60)\n",
    "S_one_run = Simulation(A)\n",
    "S_one_run.method = 'stochastic'\n",
    "S_one_run.step_size = 0.25\n",
    "S_one_run.duration = 3\n",
    "S_one_run.run()"
   ]
  },
  {
   "cell_type": "code",
   "execution_count": null,
   "id": "da58e142-f4fe-4991-b644-077c5b86df3e",
   "metadata": {},
   "outputs": [],
   "source": [
    "print(S_one_run.results[A])"
   ]
  },
  {
   "cell_type": "markdown",
   "id": "080e650e-ef49-4699-8ce7-24ac12f4d0e5",
   "metadata": {},
   "source": [
    "## Looping over data\n",
    "\n",
    "Looping through results changes for simulations with multiple repetitions and simulations with a single repetition.\n",
    "If there is a single repetition a loop through the results will yield all the meta-species and if there are multiple repetations a loop through the results will yield each time-series."
   ]
  },
  {
   "cell_type": "code",
   "execution_count": null,
   "id": "5389fda9-ed11-4425-b3b4-67777fa83818",
   "metadata": {},
   "outputs": [],
   "source": [
    "print('Single repetition: ')\n",
    "for e in S_one_run.results:\n",
    "    print(e)\n",
    "print()\n",
    "\n",
    "print('Multiple repetitions: ')\n",
    "for e in S.results:\n",
    "    print(e)"
   ]
  },
  {
   "cell_type": "code",
   "execution_count": null,
   "id": "c2d06b66-b378-4cf7-9d94-91b1da88d429",
   "metadata": {},
   "outputs": [],
   "source": []
  }
 ],
 "metadata": {
  "kernelspec": {
   "display_name": "Python 3",
   "language": "python",
   "name": "python3"
  },
  "language_info": {
   "codemirror_mode": {
    "name": "ipython",
    "version": 3
   },
   "file_extension": ".py",
   "mimetype": "text/x-python",
   "name": "python",
   "nbconvert_exporter": "python",
   "pygments_lexer": "ipython3",
   "version": "3.8.8"
  }
 },
 "nbformat": 4,
 "nbformat_minor": 5
}
