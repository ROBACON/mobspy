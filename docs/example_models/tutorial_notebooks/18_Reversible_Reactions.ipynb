{
 "cells": [
  {
   "cell_type": "markdown",
   "id": "86fb738a-7e02-4130-a660-1bfa90110cb3",
   "metadata": {},
   "source": [
    "## Reversible Reactions \n",
    "\n",
    "MobsPy has two available syntaxes for reversible reactions. Firstly, if a meta-reaction is defined with two rates instead of one, two meta-reactions will be defined. The direct sense with the first rate and the backwards sense with the second rate. \n",
    "\n",
    "Here is an example:"
   ]
  },
  {
   "cell_type": "code",
   "execution_count": 1,
   "id": "408db175-d6e8-4fe1-9b47-32b2634fe85b",
   "metadata": {},
   "outputs": [
    {
     "name": "stdout",
     "output_type": "stream",
     "text": [
      "\n",
      "Species\n",
      "A,0\n",
      "\n",
      "Mappings\n",
      "A :\n",
      "A\n",
      "\n",
      "Parameters\n",
      "volume,1\n",
      "\n",
      "Reactions\n",
      "reaction_0,{'re': [(1, 'A')], 'pr': [], 'kin': '((2*(100-A))*A)'}\n",
      "reaction_1,{'re': [], 'pr': [(1, 'A')], 'kin': '1 * volume'}\n",
      "\n"
     ]
    },
    {
     "name": "stderr",
     "output_type": "stream",
     "text": [
      "Compiling model\n"
     ]
    }
   ],
   "source": [
    "from mobspy import *\n",
    "\n",
    "A = BaseSpecies()\n",
    "\n",
    "A >> Zero [lambda r: 2*(100 - r)*r, 1]\n",
    "\n",
    "S = Simulation(A)\n",
    "print(S.compile())"
   ]
  },
  {
   "cell_type": "markdown",
   "id": "55c92ce6-985a-463c-a4e7-18b62c8b5de6",
   "metadata": {},
   "source": [
    "The other reversible reaction notation uses the Rev operator and an example follows bellow "
   ]
  },
  {
   "cell_type": "code",
   "execution_count": 2,
   "id": "a2f2bf5d-64c9-49e2-af7b-47849e25fd6e",
   "metadata": {},
   "outputs": [
    {
     "name": "stdout",
     "output_type": "stream",
     "text": [
      "\n",
      "Species\n",
      "A,0\n",
      "\n",
      "Mappings\n",
      "A :\n",
      "A\n",
      "\n",
      "Parameters\n",
      "volume,1\n",
      "\n",
      "Reactions\n",
      "reaction_0,{'re': [(1, 'A')], 'pr': [], 'kin': '((2*(100-A))*A)'}\n",
      "reaction_1,{'re': [], 'pr': [(1, 'A')], 'kin': '1 * volume'}\n",
      "\n"
     ]
    },
    {
     "name": "stderr",
     "output_type": "stream",
     "text": [
      "Compiling model\n"
     ]
    }
   ],
   "source": [
    "from mobspy import *\n",
    "\n",
    "A = BaseSpecies()\n",
    "\n",
    "Rev[A >> Zero][lambda r: 2*(100 - r)*r, 1]\n",
    "\n",
    "S = Simulation(A)\n",
    "print(S.compile())"
   ]
  },
  {
   "cell_type": "code",
   "execution_count": null,
   "id": "4d097916-bf4c-4d26-8d2c-464ca7bb12ce",
   "metadata": {},
   "outputs": [],
   "source": []
  }
 ],
 "metadata": {
  "kernelspec": {
   "display_name": "Python 3 (ipykernel)",
   "language": "python",
   "name": "python3"
  },
  "language_info": {
   "codemirror_mode": {
    "name": "ipython",
    "version": 3
   },
   "file_extension": ".py",
   "mimetype": "text/x-python",
   "name": "python",
   "nbconvert_exporter": "python",
   "pygments_lexer": "ipython3",
   "version": "3.13.1"
  }
 },
 "nbformat": 4,
 "nbformat_minor": 5
}
