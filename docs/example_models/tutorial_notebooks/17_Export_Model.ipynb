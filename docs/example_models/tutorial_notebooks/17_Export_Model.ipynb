{
 "cells": [
  {
   "cell_type": "markdown",
   "id": "173d88ba-3333-4eea-80df-f891d10c0127",
   "metadata": {},
   "source": [
    "# Export\n",
    "\n",
    "MobsPy can export models to SBML and Antimony. We show how to do this in the following.\n",
    "\n",
    "## Export to SBML\n",
    "\n",
    "We start with a simple model."
   ]
  },
  {
   "cell_type": "code",
   "execution_count": 56,
   "id": "7fbafb3a-6f98-48de-9642-624ec56875cf",
   "metadata": {},
   "outputs": [
    {
     "name": "stdout",
     "output_type": "stream",
     "text": [
      "\n",
      "Species\n",
      "A,100\n",
      "AB,0\n",
      "B,100\n",
      "\n",
      "Mappings\n",
      "A :\n",
      "A\n",
      "AB :\n",
      "AB\n",
      "B :\n",
      "B\n",
      "\n",
      "Parameters\n",
      "volume,1\n",
      "\n",
      "Reactions\n",
      "reaction_0,{'re': [(1, 'A'), (1, 'B')], 'pr': [(1, 'AB')], 'kin': 'A * B * 1 * volume^-1'}\n",
      "reaction_1,{'re': [(1, 'A')], 'pr': [], 'kin': 'A * 1'}\n",
      "reaction_2,{'re': [(1, 'AB')], 'pr': [(1, 'A'), (1, 'B')], 'kin': 'AB * 2'}\n",
      "\n"
     ]
    },
    {
     "name": "stderr",
     "output_type": "stream",
     "text": [
      "Compiling model\n"
     ]
    }
   ],
   "source": [
    "from mobspy import *\n",
    "from mobspy.modules.order_operators import Rev\n",
    "\n",
    "A, B, AB = BaseSpecies()\n",
    "A(100)\n",
    "B(100)\n",
    "\n",
    "Rev[A + B >> AB][1, 2]\n",
    "A >> Zero [1]\n",
    "\n",
    "S = Simulation(A | B | AB)\n",
    "print(S.compile())"
   ]
  },
  {
   "cell_type": "markdown",
   "id": "571d12b7",
   "metadata": {},
   "source": [
    "To generate the SBML representation of the model, one can use `generate_sbml()`. We demonstrate its use in the following."
   ]
  },
  {
   "cell_type": "code",
   "execution_count": 57,
   "id": "db28d05c",
   "metadata": {},
   "outputs": [
    {
     "name": "stdout",
     "output_type": "stream",
     "text": [
      "<?xml version=\"1.0\" encoding=\"UTF-8\"?>\n",
      "<sbml xmlns=\"http://www.sbml.org/sbml/level3/version1/core\" level=\"3\" version=\"1\">\n",
      "  <model substanceUnits=\"item\" timeUnits=\"second\" extentUnits=\"item\">\n",
      "    <listOfUnitDefinitions>\n",
      "      <unitDefinition id=\"per_min\">\n",
      "        <listOfUnits>\n",
      "          <unit kind=\"second\" exponent=\"-1\" scale=\"0\" multiplier=\"1\"/>\n",
      "        </listOfUnits>\n",
      "      </unitDefinition>\n",
      "    </listOfUnitDefinitions>\n",
      "    <listOfCompartments>\n",
      "      <compartment id=\"c1\" spatialDimensions=\"3\" size=\"1\" units=\"dimensionless\" constant=\"true\"/>\n",
      "    </listOfCompartments>\n",
      "    <listOfSpecies>\n",
      "      <species id=\"A\" compartment=\"c1\" initialAmount=\"100\" substanceUnits=\"item\" hasOnlySubstanceUnits=\"false\" boundaryCondition=\"false\" constant=\"false\"/>\n",
      "      <species id=\"B\" compartment=\"c1\" initialAmount=\"100\" substanceUnits=\"item\" hasOnlySubstanceUnits=\"false\" boundaryCondition=\"false\" constant=\"false\"/>\n",
      "      <species id=\"AB\" compartment=\"c1\" initialAmount=\"0\" substanceUnits=\"item\" hasOnlySubstanceUnits=\"false\" boundaryCondition=\"false\" constant=\"false\"/>\n",
      "    </listOfSpecies>\n",
      "    <listOfParameters>\n",
      "      <parameter id=\"volume\" value=\"1\" units=\"dimensionless\" constant=\"true\"/>\n",
      "    </listOfParameters>\n",
      "    <listOfReactions>\n",
      "      <reaction id=\"reaction_0\" reversible=\"false\" fast=\"false\">\n",
      "        <listOfReactants>\n",
      "          <speciesReference species=\"A\" stoichiometry=\"1\" constant=\"true\"/>\n",
      "          <speciesReference species=\"B\" stoichiometry=\"1\" constant=\"true\"/>\n",
      "        </listOfReactants>\n",
      "        <listOfProducts>\n",
      "          <speciesReference species=\"AB\" stoichiometry=\"1\" constant=\"true\"/>\n",
      "        </listOfProducts>\n",
      "        <kineticLaw>\n",
      "          <math xmlns=\"http://www.w3.org/1998/Math/MathML\">\n",
      "            <apply>\n",
      "              <times/>\n",
      "              <ci> A </ci>\n",
      "              <ci> B </ci>\n",
      "              <cn type=\"integer\"> 1 </cn>\n",
      "              <apply>\n",
      "                <power/>\n",
      "                <ci> volume </ci>\n",
      "                <apply>\n",
      "                  <minus/>\n",
      "                  <cn type=\"integer\"> 1 </cn>\n",
      "                </apply>\n",
      "              </apply>\n",
      "            </apply>\n",
      "          </math>\n",
      "        </kineticLaw>\n",
      "      </reaction>\n",
      "      <reaction id=\"reaction_1\" reversible=\"false\" fast=\"false\">\n",
      "        <listOfReactants>\n",
      "          <speciesReference species=\"A\" stoichiometry=\"1\" constant=\"true\"/>\n",
      "        </listOfReactants>\n",
      "        <kineticLaw>\n",
      "          <math xmlns=\"http://www.w3.org/1998/Math/MathML\">\n",
      "            <apply>\n",
      "              <times/>\n",
      "              <ci> A </ci>\n",
      "              <cn type=\"integer\"> 1 </cn>\n",
      "            </apply>\n",
      "          </math>\n",
      "        </kineticLaw>\n",
      "      </reaction>\n",
      "      <reaction id=\"reaction_2\" reversible=\"false\" fast=\"false\">\n",
      "        <listOfReactants>\n",
      "          <speciesReference species=\"AB\" stoichiometry=\"1\" constant=\"true\"/>\n",
      "        </listOfReactants>\n",
      "        <listOfProducts>\n",
      "          <speciesReference species=\"A\" stoichiometry=\"1\" constant=\"true\"/>\n",
      "          <speciesReference species=\"B\" stoichiometry=\"1\" constant=\"true\"/>\n",
      "        </listOfProducts>\n",
      "        <kineticLaw>\n",
      "          <math xmlns=\"http://www.w3.org/1998/Math/MathML\">\n",
      "            <apply>\n",
      "              <times/>\n",
      "              <ci> AB </ci>\n",
      "              <cn type=\"integer\"> 2 </cn>\n",
      "            </apply>\n",
      "          </math>\n",
      "        </kineticLaw>\n",
      "      </reaction>\n",
      "    </listOfReactions>\n",
      "  </model>\n",
      "</sbml>\n",
      "\n"
     ]
    }
   ],
   "source": [
    "for txt in S.generate_sbml():\n",
    "    print(txt)"
   ]
  },
  {
   "cell_type": "markdown",
   "id": "a1e1f058",
   "metadata": {},
   "source": [
    "### Export with units\n",
    "\n",
    "We next demonstrate the export in case units are used."
   ]
  },
  {
   "cell_type": "code",
   "execution_count": 58,
   "id": "38f03968",
   "metadata": {},
   "outputs": [
    {
     "name": "stderr",
     "output_type": "stream",
     "text": [
      "Compiling model\n"
     ]
    },
    {
     "name": "stdout",
     "output_type": "stream",
     "text": [
      "<?xml version=\"1.0\" encoding=\"UTF-8\"?>\n",
      "<sbml xmlns=\"http://www.sbml.org/sbml/level3/version1/core\" level=\"3\" version=\"1\">\n",
      "  <model substanceUnits=\"item\" timeUnits=\"second\" extentUnits=\"item\">\n",
      "    <listOfUnitDefinitions>\n",
      "      <unitDefinition id=\"per_min\">\n",
      "        <listOfUnits>\n",
      "          <unit kind=\"second\" exponent=\"-1\" scale=\"0\" multiplier=\"1\"/>\n",
      "        </listOfUnits>\n",
      "      </unitDefinition>\n",
      "    </listOfUnitDefinitions>\n",
      "    <listOfCompartments>\n",
      "      <compartment id=\"c1\" spatialDimensions=\"3\" size=\"1\" units=\"dimensionless\" constant=\"true\"/>\n",
      "    </listOfCompartments>\n",
      "    <listOfSpecies>\n",
      "      <species id=\"A\" compartment=\"c1\" initialAmount=\"100000\" substanceUnits=\"item\" hasOnlySubstanceUnits=\"false\" boundaryCondition=\"false\" constant=\"false\"/>\n",
      "      <species id=\"AB\" compartment=\"c1\" initialAmount=\"0\" substanceUnits=\"item\" hasOnlySubstanceUnits=\"false\" boundaryCondition=\"false\" constant=\"false\"/>\n",
      "      <species id=\"B\" compartment=\"c1\" initialAmount=\"100000\" substanceUnits=\"item\" hasOnlySubstanceUnits=\"false\" boundaryCondition=\"false\" constant=\"false\"/>\n",
      "    </listOfSpecies>\n",
      "    <listOfParameters>\n",
      "      <parameter id=\"volume\" value=\"1\" units=\"dimensionless\" constant=\"true\"/>\n",
      "    </listOfParameters>\n",
      "    <listOfReactions>\n",
      "      <reaction id=\"reaction_0\" reversible=\"false\" fast=\"false\">\n",
      "        <listOfReactants>\n",
      "          <speciesReference species=\"A\" stoichiometry=\"1\" constant=\"true\"/>\n",
      "          <speciesReference species=\"B\" stoichiometry=\"1\" constant=\"true\"/>\n",
      "        </listOfReactants>\n",
      "        <listOfProducts>\n",
      "          <speciesReference species=\"AB\" stoichiometry=\"1\" constant=\"true\"/>\n",
      "        </listOfProducts>\n",
      "        <kineticLaw>\n",
      "          <math xmlns=\"http://www.w3.org/1998/Math/MathML\">\n",
      "            <apply>\n",
      "              <times/>\n",
      "              <ci> A </ci>\n",
      "              <ci> B </ci>\n",
      "              <cn type=\"e-notation\"> 1.66666666666667 <sep/> -5 </cn>\n",
      "              <apply>\n",
      "                <power/>\n",
      "                <ci> volume </ci>\n",
      "                <apply>\n",
      "                  <minus/>\n",
      "                  <cn type=\"integer\"> 1 </cn>\n",
      "                </apply>\n",
      "              </apply>\n",
      "            </apply>\n",
      "          </math>\n",
      "        </kineticLaw>\n",
      "      </reaction>\n",
      "      <reaction id=\"reaction_1\" reversible=\"false\" fast=\"false\">\n",
      "        <listOfReactants>\n",
      "          <speciesReference species=\"A\" stoichiometry=\"1\" constant=\"true\"/>\n",
      "        </listOfReactants>\n",
      "        <kineticLaw>\n",
      "          <math xmlns=\"http://www.w3.org/1998/Math/MathML\">\n",
      "            <apply>\n",
      "              <times/>\n",
      "              <ci> A </ci>\n",
      "              <cn> 0.0166666666666667 </cn>\n",
      "            </apply>\n",
      "          </math>\n",
      "        </kineticLaw>\n",
      "      </reaction>\n",
      "      <reaction id=\"reaction_2\" reversible=\"false\" fast=\"false\">\n",
      "        <listOfReactants>\n",
      "          <speciesReference species=\"AB\" stoichiometry=\"1\" constant=\"true\"/>\n",
      "        </listOfReactants>\n",
      "        <listOfProducts>\n",
      "          <speciesReference species=\"A\" stoichiometry=\"1\" constant=\"true\"/>\n",
      "          <speciesReference species=\"B\" stoichiometry=\"1\" constant=\"true\"/>\n",
      "        </listOfProducts>\n",
      "        <kineticLaw>\n",
      "          <math xmlns=\"http://www.w3.org/1998/Math/MathML\">\n",
      "            <apply>\n",
      "              <times/>\n",
      "              <ci> AB </ci>\n",
      "              <cn> 0.000555555555555556 </cn>\n",
      "            </apply>\n",
      "          </math>\n",
      "        </kineticLaw>\n",
      "      </reaction>\n",
      "    </listOfReactions>\n",
      "  </model>\n",
      "</sbml>\n",
      "\n"
     ]
    }
   ],
   "source": [
    "from mobspy import *\n",
    "from mobspy.modules.order_operators import Rev\n",
    "\n",
    "A, B, AB = BaseSpecies()\n",
    "A(100/u.mL)\n",
    "B(100/u.mL)\n",
    "\n",
    "Rev[A + B >> AB][1 * u.mL/u.min, 2 * 1/u.hour]\n",
    "A >> Zero [1/u.min]\n",
    "\n",
    "S.volume = 1 * u.mL\n",
    "S = Simulation(A | B | AB)\n",
    "\n",
    "for txt in S.generate_sbml():\n",
    "    print(txt)"
   ]
  },
  {
   "cell_type": "markdown",
   "id": "f584829c-c4a2-4b2d-bd60-8a11a38a13fd",
   "metadata": {},
   "source": [
    "## Export to Antimony\n",
    "\n",
    "For this the simulation object provides a method `generate_antimony()`. We demonstrate its use in the following."
   ]
  },
  {
   "cell_type": "code",
   "execution_count": 59,
   "id": "c0e7dfca-f905-4f1d-a6eb-a5948ae02177",
   "metadata": {},
   "outputs": [
    {
     "name": "stderr",
     "output_type": "stream",
     "text": [
      "Compiling model\n"
     ]
    },
    {
     "name": "stdout",
     "output_type": "stream",
     "text": [
      "\n",
      "Species\n",
      "A,100\n",
      "AB,0\n",
      "B,100\n",
      "\n",
      "Mappings\n",
      "A :\n",
      "A\n",
      "AB :\n",
      "AB\n",
      "B :\n",
      "B\n",
      "\n",
      "Parameters\n",
      "volume,1\n",
      "\n",
      "Reactions\n",
      "reaction_0,{'re': [(1, 'A'), (1, 'B')], 'pr': [(1, 'AB')], 'kin': 'A * B * 1 * volume^-1'}\n",
      "reaction_1,{'re': [(1, 'A')], 'pr': [], 'kin': 'A * 1'}\n",
      "reaction_2,{'re': [(1, 'AB')], 'pr': [(1, 'A'), (1, 'B')], 'kin': 'AB * 2'}\n",
      "\n"
     ]
    }
   ],
   "source": [
    "from mobspy import *\n",
    "from mobspy.modules.order_operators import Rev\n",
    "\n",
    "A, B, AB = BaseSpecies()\n",
    "A(100)\n",
    "B(100)\n",
    "\n",
    "Rev[A + B >> AB][1, 2]\n",
    "A >> Zero [1]\n",
    "\n",
    "S = Simulation(A | B | AB)\n",
    "print(S.compile())"
   ]
  },
  {
   "cell_type": "code",
   "execution_count": 60,
   "id": "9b9b70fc",
   "metadata": {},
   "outputs": [
    {
     "name": "stdout",
     "output_type": "stream",
     "text": [
      "model mobspy_18877 \n",
      "    A = 100 dimensionless\n",
      "    AB = 0 dimensionless\n",
      "    B = 100 dimensionless\n",
      "    volume = 1 dimensionless\n",
      "    _vol = 1 dimensionless\n",
      "    reaction_0: A + B ->  AB; A * B * 1 * _vol^-1\n",
      "    reaction_1: AB ->  A + B; AB * 2\n",
      "    reaction_2: A -> ; A * 1\n",
      "end\n"
     ]
    }
   ],
   "source": [
    "for txt in S.generate_antimony():\n",
    "    print(txt)"
   ]
  },
  {
   "cell_type": "markdown",
   "id": "daace900",
   "metadata": {},
   "source": [
    "### Export with units\n",
    "\n",
    "Again a model with units follows."
   ]
  },
  {
   "cell_type": "code",
   "execution_count": 61,
   "id": "46859cba",
   "metadata": {},
   "outputs": [
    {
     "name": "stderr",
     "output_type": "stream",
     "text": [
      "Compiling model\n"
     ]
    },
    {
     "name": "stdout",
     "output_type": "stream",
     "text": [
      "model mobspy_19089 \n",
      "    A = 100000.00000000001 dimensionless\n",
      "    B = 100000.00000000001 dimensionless\n",
      "    AB = 0 dimensionless\n",
      "    volume = 1 dimensionless\n",
      "    _vol = 1 dimensionless\n",
      "    reaction_0: A -> ; A * 0.016666666666666666\n",
      "    reaction_1: AB ->  A + B; AB * 0.0005555555555555556\n",
      "    reaction_2: A + B ->  AB; A * B * 1.6666666666666667e-05 * _vol^-1\n",
      "end\n"
     ]
    }
   ],
   "source": [
    "from mobspy import *\n",
    "from mobspy.modules.order_operators import Rev\n",
    "\n",
    "A, B, AB = BaseSpecies()\n",
    "A(100/u.mL)\n",
    "B(100/u.mL)\n",
    "\n",
    "Rev[A + B >> AB][1 * u.mL/u.min, 2 * 1/u.hour]\n",
    "A >> Zero [1/u.min]\n",
    "\n",
    "S.volume = 1 * u.mL\n",
    "S = Simulation(A | B | AB)\n",
    "\n",
    "for txt in S.generate_antimony():\n",
    "    print(txt)"
   ]
  },
  {
   "cell_type": "code",
   "execution_count": null,
   "id": "d4c03a34",
   "metadata": {},
   "outputs": [],
   "source": []
  }
 ],
 "metadata": {
  "kernelspec": {
   "display_name": "venv",
   "language": "python",
   "name": "python3"
  },
  "language_info": {
   "codemirror_mode": {
    "name": "ipython",
    "version": 3
   },
   "file_extension": ".py",
   "mimetype": "text/x-python",
   "name": "python",
   "nbconvert_exporter": "python",
   "pygments_lexer": "ipython3",
   "version": "3.12.7"
  }
 },
 "nbformat": 4,
 "nbformat_minor": 5
}
