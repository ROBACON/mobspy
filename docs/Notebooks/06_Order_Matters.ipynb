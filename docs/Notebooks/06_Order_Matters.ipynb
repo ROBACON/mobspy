{
 "cells": [
  {
   "cell_type": "markdown",
   "id": "9fa015f3-ab7b-406b-92ca-db2a2fd4bcdb",
   "metadata": {},
   "source": [
    "# Order of Reactants and Products\n",
    "\n",
    "In this example, we will construct a model of how the order of reactants and products affects a meta-reaction. MobsPy uses a round-robin structure to assign reactant states to product states.\n",
    "In this example, we describe this structure in detail with examples."
   ]
  },
  {
   "cell_type": "code",
   "execution_count": 1,
   "id": "c61b4b9b-705c-4d73-bd8e-5fb7b99b9413",
   "metadata": {},
   "outputs": [
    {
     "data": {
      "text/plain": [
       "(<mobspy.modules.meta_class.Reacting_Species at 0x7f942baa3250>,\n",
       " <mobspy.modules.meta_class.Reacting_Species at 0x7f942baa3880>)"
      ]
     },
     "execution_count": 1,
     "metadata": {},
     "output_type": "execute_result"
    }
   ],
   "source": [
    "from mobspy import *\n",
    "\n",
    "Age = BaseSpecies(1)\n",
    "Age.young >> Age.old [1]\n",
    "\n",
    "Animal = Age\n",
    "Animal.a1, Animal.a2"
   ]
  },
  {
   "cell_type": "markdown",
   "id": "56a573b8-42d9-45e6-bd87-ca9588a4d174",
   "metadata": {},
   "source": [
    "The Round-Robin mechanism is demonstrated with the reaction below:"
   ]
  },
  {
   "cell_type": "code",
   "execution_count": 2,
   "id": "4af91b90-0a96-47c0-8a44-1be77cd7ccf7",
   "metadata": {},
   "outputs": [
    {
     "data": {
      "text/plain": [
       "<mobspy.modules.meta_class.Reactions at 0x7f942baa3970>"
      ]
     },
     "execution_count": 2,
     "metadata": {},
     "output_type": "execute_result"
    }
   ],
   "source": [
    "Animal.old + Animal.young >> Animal.old [1]"
   ]
  },
  {
   "cell_type": "markdown",
   "id": "bfd0e362-ccc5-4d0c-baa2-60da1b42ce4d",
   "metadata": {},
   "source": [
    "In this reaction, we want to define a competition between young and old animals.\n",
    "We want the old animal to survive the competition.\n",
    "However, how does MobsPy distinguish this case from where the young animal survives and becomes old?\n",
    "Simple, through the reactants order.\n",
    "The first reactant becomes the first species in the product, and it continues cyclically until all products have been mapped to a species."
   ]
  },
  {
   "cell_type": "markdown",
   "id": "36909283-d9de-4365-8eb5-699051d6b25d",
   "metadata": {},
   "source": [
    "If necessary, the .label() can be used to circumvent this default behavior, if required.\n",
    "In the next reaction, the young Animal kills the old and becomes old itself."
   ]
  },
  {
   "cell_type": "code",
   "execution_count": 3,
   "id": "3ae158e1-7ca2-4473-bddc-7acdb93e94cd",
   "metadata": {},
   "outputs": [],
   "source": [
    "# Animal.old + Animal.young.label(1) >> Animal.old.label(1) [1]"
   ]
  },
  {
   "cell_type": "markdown",
   "id": "2241b7b0-82bc-4d43-9ab9-62ac450c05a5",
   "metadata": {},
   "source": [
    "While arguably, the fact that once the old animal survives and once the young one does not make a difference in our setting, it does if additional characteristics are added to the Animal, e.g., it having a color."
   ]
  },
  {
   "cell_type": "markdown",
   "id": "af014d01-d04d-479f-9951-a8cf4106b26a",
   "metadata": {},
   "source": [
    "The cyclic round-robin style is especially useful in reproduction reactions. Since the assignment cycles in a round-robin fashion, the first product will be assigned the first reactant, and the second product will cycle through the reactants and be assigned the first reactant as well. In the example below, the two products will be generated in the same state as the reactant"
   ]
  },
  {
   "cell_type": "code",
   "execution_count": 4,
   "id": "d41d8c71-f39e-4f62-83bf-4936697138a0",
   "metadata": {},
   "outputs": [
    {
     "data": {
      "text/plain": [
       "<mobspy.modules.meta_class.Reactions at 0x7f9431b4a760>"
      ]
     },
     "execution_count": 4,
     "metadata": {},
     "output_type": "execute_result"
    }
   ],
   "source": [
    "Animal >> 2*Animal [1]"
   ]
  },
  {
   "cell_type": "markdown",
   "id": "d3fc1f8f-0579-4015-a3d6-c05a0d667a54",
   "metadata": {},
   "source": [
    "Finally, the compilation:"
   ]
  },
  {
   "cell_type": "code",
   "execution_count": 5,
   "id": "aafeea6d-dd47-4368-8ec5-f0c22b48bb49",
   "metadata": {},
   "outputs": [
    {
     "name": "stdout",
     "output_type": "stream",
     "text": [
      "\n",
      "Species\n",
      "Age.a1,0\n",
      "Age.a2,0\n",
      "Age.old,0\n",
      "Age.young,0\n",
      "\n",
      "Mappings\n",
      "Age :\n",
      "Age.a1\n",
      "Age.a2\n",
      "Age.old\n",
      "Age.young\n",
      "\n",
      "Parameters\n",
      "volume,1\n",
      "\n",
      "Reactions\n",
      "reaction_0,{'re': [(1, 'Age.a1')], 'pr': [(2, 'Age.a1')], 'kin': 'Age.a1 * 1'}\n",
      "reaction_1,{'re': [(1, 'Age.a2')], 'pr': [(2, 'Age.a2')], 'kin': 'Age.a2 * 1'}\n",
      "reaction_2,{'re': [(1, 'Age.old'), (1, 'Age.young')], 'pr': [(1, 'Age.old')], 'kin': 'Age.old * Age.young * 1 * volume^-1'}\n",
      "reaction_3,{'re': [(1, 'Age.old')], 'pr': [(2, 'Age.old')], 'kin': 'Age.old * 1'}\n",
      "reaction_4,{'re': [(1, 'Age.young')], 'pr': [(1, 'Age.old')], 'kin': 'Age.young * 1'}\n",
      "reaction_5,{'re': [(1, 'Age.young')], 'pr': [(2, 'Age.young')], 'kin': 'Age.young * 1'}\n",
      "\n"
     ]
    },
    {
     "name": "stderr",
     "output_type": "stream",
     "text": [
      "Compiling model\n",
      "\u001b[91mWARNING: Automatic data-saving setup failed. Please save manually\u001b[0m\n"
     ]
    }
   ],
   "source": [
    "MySim = Simulation(Animal)\n",
    "print(MySim.compile())"
   ]
  }
 ],
 "metadata": {
  "kernelspec": {
   "display_name": "Python 3",
   "language": "python",
   "name": "python3"
  },
  "language_info": {
   "codemirror_mode": {
    "name": "ipython",
    "version": 3
   },
   "file_extension": ".py",
   "mimetype": "text/x-python",
   "name": "python",
   "nbconvert_exporter": "python",
   "pygments_lexer": "ipython3",
   "version": "3.8.8"
  }
 },
 "nbformat": 4,
 "nbformat_minor": 5
}
