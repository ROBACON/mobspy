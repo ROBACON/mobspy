{
 "cells": [
  {
   "cell_type": "markdown",
   "id": "3e4101fb",
   "metadata": {},
   "source": [
    "# This is the A + B -> 2C + D example model\n"
   ]
  },
  {
   "cell_type": "markdown",
   "id": "c2e61037",
   "metadata": {},
   "source": [
    "### Defining the model builder"
   ]
  },
  {
   "cell_type": "markdown",
   "id": "ac7e3eaa",
   "metadata": {},
   "source": [
    "In this example we will show how to design the following reaction model A + B -> 2C + D. \n",
    "\n",
    "The first step is to define the model using the builder. Start by creating a python model file in the model folder using the model_build.py as template.\n",
    "\n",
    "Once that is done go into the builder(params) function and code the following:"
   ]
  },
  {
   "cell_type": "code",
   "execution_count": 1,
   "id": "5973204c",
   "metadata": {},
   "outputs": [],
   "source": [
    "def build(params):\n",
    "    \n",
    "    # This code is on the template\n",
    "    # It is used to chance the volume to a value different \n",
    "    # than the standart 1 ml\n",
    "    global VOLUME_ML\n",
    "    if 'volume_ml' in params.keys():\n",
    "        VOLUME_ML = params['volume_ml']\n",
    "        print(f'Volume has been set to {VOLUME_ML} ml.')\n",
    "        \n",
    "    # Here we define the events in the biological simulation\n",
    "    # Due to the simplicity of this model, it is empty\n",
    "    events = {}\n",
    "    \n",
    "    # Here we define the species used in the reaction\n",
    "    # And assign their initial quantity\n",
    "    # The params['init_A'] are defined on a text file\n",
    "    # That will explained later\n",
    "    species = {\n",
    "        'A': params['init_A'],\n",
    "        'B': params['init_B'],\n",
    "        'C': params['init_C'],\n",
    "        'D': params['init_D']\n",
    "    }\n",
    "    \n",
    "    # Mapping of names and species for ploting and other purposes\n",
    "    # In this model it serves no important purpose\n",
    "    # But in other models it is used to map several species to one \n",
    "    mappings = {\n",
    "        'reactant A': ['A'],\n",
    "        'reactant B': ['B'],\n",
    "        'product C': ['C'],\n",
    "        'product D': ['D']\n",
    "    }\n",
    "    \n",
    "    # This code is also on the template\n",
    "    # Just adjusting things according to the volume\n",
    "    for s in species.keys():\n",
    "        species[s] = int(species[s] * VOLUME_ML)\n",
    "        \n",
    "    # Here we define the reaction parameters\n",
    "    # In this case we just define the kinectic reaction rate\n",
    "    parameters = {\n",
    "        'res_1_rate': (params['res_1_rate'], 'per_min'),\n",
    "    }\n",
    "    \n",
    "    # Now we define the chemical reaction according to the model\n",
    "    # The reactants are defined in 're' and the products on 'pr'\n",
    "    # The reaction speed in defined in 'kin'\n",
    "    # We define the species according to their stoichiometry\n",
    "    # Like this [(stoic_A, species A),(stoic_B, species B)]\n",
    "    # One can see that this reaction is A + B -> 2C + D\n",
    "    reactions = {\n",
    "        'res_1_transformation': {\n",
    "            're': [(1, 'A'), (1, 'B')],\n",
    "            'pr': [(2, 'C'), (1, 'D')],\n",
    "            'kin': f\"A * B * res_1_rate\"\n",
    "        },\n",
    "    }\n",
    "    \n",
    "    # Finally we return the data necessary for simulating the model\n",
    "    return {'species': species, 'parameters': parameters, 'reactions': reactions, 'events': events,\n",
    "            'mappings': mappings}\n"
   ]
  },
  {
   "cell_type": "markdown",
   "id": "11fd8621",
   "metadata": {},
   "source": [
    "### Defining the model parameters"
   ]
  },
  {
   "cell_type": "markdown",
   "id": "254f0250",
   "metadata": {},
   "source": [
    "The model parameters are set in a .txt file according "
   ]
  },
  {
   "cell_type": "code",
   "execution_count": null,
   "id": "e7b3a863",
   "metadata": {},
   "outputs": [],
   "source": []
  }
 ],
 "metadata": {
  "kernelspec": {
   "display_name": "Python 3",
   "language": "python",
   "name": "python3"
  },
  "language_info": {
   "codemirror_mode": {
    "name": "ipython",
    "version": 3
   },
   "file_extension": ".py",
   "mimetype": "text/x-python",
   "name": "python",
   "nbconvert_exporter": "python",
   "pygments_lexer": "ipython3",
   "version": "3.8.8"
  }
 },
 "nbformat": 4,
 "nbformat_minor": 5
}
